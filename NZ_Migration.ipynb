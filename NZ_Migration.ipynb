{
  "nbformat": 4,
  "nbformat_minor": 0,
  "metadata": {
    "colab": {
      "provenance": [],
      "include_colab_link": true
    },
    "kernelspec": {
      "name": "python3",
      "display_name": "Python 3"
    },
    "language_info": {
      "name": "python"
    }
  },
  "cells": [
    {
      "cell_type": "markdown",
      "metadata": {
        "id": "view-in-github",
        "colab_type": "text"
      },
      "source": [
        "<a href=\"https://colab.research.google.com/github/TahminaAnondi/migration_ML/blob/main/NZ_Migration.ipynb\" target=\"_parent\"><img src=\"https://colab.research.google.com/assets/colab-badge.svg\" alt=\"Open In Colab\"/></a>"
      ]
    },
    {
      "cell_type": "markdown",
      "source": [
        "#**Import the libraries.**"
      ],
      "metadata": {
        "id": "vqwEr0YtEYAW"
      }
    },
    {
      "cell_type": "code",
      "source": [
        "import pandas as pd\n",
        "from sklearn.model_selection import train_test_split\n",
        "#from sklearn import svm # it is a supervised machine learning algorithm used for classification and regression tasks.\n",
        "import seaborn as sns\n",
        "import matplotlib.pyplot as plt\n",
        "#from sklearn.metrics import mean_squared_error\n",
        "import numpy as np\n",
        "from sklearn.ensemble import RandomForestRegressor #It's based on the idea of constructing multiple decision trees during training and combining their predictions to improve accuracy and reduce overfitting.\n",
        "import plotly.express as px"
      ],
      "metadata": {
        "id": "JmmpBSDIEXEx"
      },
      "execution_count": 95,
      "outputs": []
    },
    {
      "cell_type": "markdown",
      "source": [
        "#Load the Data"
      ],
      "metadata": {
        "id": "2DhqJLjzEmpK"
      }
    },
    {
      "cell_type": "code",
      "source": [
        "migration = pd.read_excel('Net_Migration.xlsx')\n",
        "migration.head()"
      ],
      "metadata": {
        "colab": {
          "base_uri": "https://localhost:8080/",
          "height": 206
        },
        "id": "TcMtQZACEnea",
        "outputId": "56bc8841-3ccd-4129-98d4-247503f00b85"
      },
      "execution_count": 96,
      "outputs": [
        {
          "output_type": "execute_result",
          "data": {
            "text/plain": [
              "  Country  Year  Value\n",
              "0   India  1979    -65\n",
              "1   India  1979     -4\n",
              "2   India  1979    -39\n",
              "3   India  1980     10\n",
              "4   India  1980     -3"
            ],
            "text/html": [
              "\n",
              "  <div id=\"df-329e289c-2ab7-4568-9456-97b303ae50cf\" class=\"colab-df-container\">\n",
              "    <div>\n",
              "<style scoped>\n",
              "    .dataframe tbody tr th:only-of-type {\n",
              "        vertical-align: middle;\n",
              "    }\n",
              "\n",
              "    .dataframe tbody tr th {\n",
              "        vertical-align: top;\n",
              "    }\n",
              "\n",
              "    .dataframe thead th {\n",
              "        text-align: right;\n",
              "    }\n",
              "</style>\n",
              "<table border=\"1\" class=\"dataframe\">\n",
              "  <thead>\n",
              "    <tr style=\"text-align: right;\">\n",
              "      <th></th>\n",
              "      <th>Country</th>\n",
              "      <th>Year</th>\n",
              "      <th>Value</th>\n",
              "    </tr>\n",
              "  </thead>\n",
              "  <tbody>\n",
              "    <tr>\n",
              "      <th>0</th>\n",
              "      <td>India</td>\n",
              "      <td>1979</td>\n",
              "      <td>-65</td>\n",
              "    </tr>\n",
              "    <tr>\n",
              "      <th>1</th>\n",
              "      <td>India</td>\n",
              "      <td>1979</td>\n",
              "      <td>-4</td>\n",
              "    </tr>\n",
              "    <tr>\n",
              "      <th>2</th>\n",
              "      <td>India</td>\n",
              "      <td>1979</td>\n",
              "      <td>-39</td>\n",
              "    </tr>\n",
              "    <tr>\n",
              "      <th>3</th>\n",
              "      <td>India</td>\n",
              "      <td>1980</td>\n",
              "      <td>10</td>\n",
              "    </tr>\n",
              "    <tr>\n",
              "      <th>4</th>\n",
              "      <td>India</td>\n",
              "      <td>1980</td>\n",
              "      <td>-3</td>\n",
              "    </tr>\n",
              "  </tbody>\n",
              "</table>\n",
              "</div>\n",
              "    <div class=\"colab-df-buttons\">\n",
              "\n",
              "  <div class=\"colab-df-container\">\n",
              "    <button class=\"colab-df-convert\" onclick=\"convertToInteractive('df-329e289c-2ab7-4568-9456-97b303ae50cf')\"\n",
              "            title=\"Convert this dataframe to an interactive table.\"\n",
              "            style=\"display:none;\">\n",
              "\n",
              "  <svg xmlns=\"http://www.w3.org/2000/svg\" height=\"24px\" viewBox=\"0 -960 960 960\">\n",
              "    <path d=\"M120-120v-720h720v720H120Zm60-500h600v-160H180v160Zm220 220h160v-160H400v160Zm0 220h160v-160H400v160ZM180-400h160v-160H180v160Zm440 0h160v-160H620v160ZM180-180h160v-160H180v160Zm440 0h160v-160H620v160Z\"/>\n",
              "  </svg>\n",
              "    </button>\n",
              "\n",
              "  <style>\n",
              "    .colab-df-container {\n",
              "      display:flex;\n",
              "      gap: 12px;\n",
              "    }\n",
              "\n",
              "    .colab-df-convert {\n",
              "      background-color: #E8F0FE;\n",
              "      border: none;\n",
              "      border-radius: 50%;\n",
              "      cursor: pointer;\n",
              "      display: none;\n",
              "      fill: #1967D2;\n",
              "      height: 32px;\n",
              "      padding: 0 0 0 0;\n",
              "      width: 32px;\n",
              "    }\n",
              "\n",
              "    .colab-df-convert:hover {\n",
              "      background-color: #E2EBFA;\n",
              "      box-shadow: 0px 1px 2px rgba(60, 64, 67, 0.3), 0px 1px 3px 1px rgba(60, 64, 67, 0.15);\n",
              "      fill: #174EA6;\n",
              "    }\n",
              "\n",
              "    .colab-df-buttons div {\n",
              "      margin-bottom: 4px;\n",
              "    }\n",
              "\n",
              "    [theme=dark] .colab-df-convert {\n",
              "      background-color: #3B4455;\n",
              "      fill: #D2E3FC;\n",
              "    }\n",
              "\n",
              "    [theme=dark] .colab-df-convert:hover {\n",
              "      background-color: #434B5C;\n",
              "      box-shadow: 0px 1px 3px 1px rgba(0, 0, 0, 0.15);\n",
              "      filter: drop-shadow(0px 1px 2px rgba(0, 0, 0, 0.3));\n",
              "      fill: #FFFFFF;\n",
              "    }\n",
              "  </style>\n",
              "\n",
              "    <script>\n",
              "      const buttonEl =\n",
              "        document.querySelector('#df-329e289c-2ab7-4568-9456-97b303ae50cf button.colab-df-convert');\n",
              "      buttonEl.style.display =\n",
              "        google.colab.kernel.accessAllowed ? 'block' : 'none';\n",
              "\n",
              "      async function convertToInteractive(key) {\n",
              "        const element = document.querySelector('#df-329e289c-2ab7-4568-9456-97b303ae50cf');\n",
              "        const dataTable =\n",
              "          await google.colab.kernel.invokeFunction('convertToInteractive',\n",
              "                                                    [key], {});\n",
              "        if (!dataTable) return;\n",
              "\n",
              "        const docLinkHtml = 'Like what you see? Visit the ' +\n",
              "          '<a target=\"_blank\" href=https://colab.research.google.com/notebooks/data_table.ipynb>data table notebook</a>'\n",
              "          + ' to learn more about interactive tables.';\n",
              "        element.innerHTML = '';\n",
              "        dataTable['output_type'] = 'display_data';\n",
              "        await google.colab.output.renderOutput(dataTable, element);\n",
              "        const docLink = document.createElement('div');\n",
              "        docLink.innerHTML = docLinkHtml;\n",
              "        element.appendChild(docLink);\n",
              "      }\n",
              "    </script>\n",
              "  </div>\n",
              "\n",
              "\n",
              "<div id=\"df-a39ed3bb-c068-4877-9863-c1130f3d953b\">\n",
              "  <button class=\"colab-df-quickchart\" onclick=\"quickchart('df-a39ed3bb-c068-4877-9863-c1130f3d953b')\"\n",
              "            title=\"Suggest charts\"\n",
              "            style=\"display:none;\">\n",
              "\n",
              "<svg xmlns=\"http://www.w3.org/2000/svg\" height=\"24px\"viewBox=\"0 0 24 24\"\n",
              "     width=\"24px\">\n",
              "    <g>\n",
              "        <path d=\"M19 3H5c-1.1 0-2 .9-2 2v14c0 1.1.9 2 2 2h14c1.1 0 2-.9 2-2V5c0-1.1-.9-2-2-2zM9 17H7v-7h2v7zm4 0h-2V7h2v10zm4 0h-2v-4h2v4z\"/>\n",
              "    </g>\n",
              "</svg>\n",
              "  </button>\n",
              "\n",
              "<style>\n",
              "  .colab-df-quickchart {\n",
              "      --bg-color: #E8F0FE;\n",
              "      --fill-color: #1967D2;\n",
              "      --hover-bg-color: #E2EBFA;\n",
              "      --hover-fill-color: #174EA6;\n",
              "      --disabled-fill-color: #AAA;\n",
              "      --disabled-bg-color: #DDD;\n",
              "  }\n",
              "\n",
              "  [theme=dark] .colab-df-quickchart {\n",
              "      --bg-color: #3B4455;\n",
              "      --fill-color: #D2E3FC;\n",
              "      --hover-bg-color: #434B5C;\n",
              "      --hover-fill-color: #FFFFFF;\n",
              "      --disabled-bg-color: #3B4455;\n",
              "      --disabled-fill-color: #666;\n",
              "  }\n",
              "\n",
              "  .colab-df-quickchart {\n",
              "    background-color: var(--bg-color);\n",
              "    border: none;\n",
              "    border-radius: 50%;\n",
              "    cursor: pointer;\n",
              "    display: none;\n",
              "    fill: var(--fill-color);\n",
              "    height: 32px;\n",
              "    padding: 0;\n",
              "    width: 32px;\n",
              "  }\n",
              "\n",
              "  .colab-df-quickchart:hover {\n",
              "    background-color: var(--hover-bg-color);\n",
              "    box-shadow: 0 1px 2px rgba(60, 64, 67, 0.3), 0 1px 3px 1px rgba(60, 64, 67, 0.15);\n",
              "    fill: var(--button-hover-fill-color);\n",
              "  }\n",
              "\n",
              "  .colab-df-quickchart-complete:disabled,\n",
              "  .colab-df-quickchart-complete:disabled:hover {\n",
              "    background-color: var(--disabled-bg-color);\n",
              "    fill: var(--disabled-fill-color);\n",
              "    box-shadow: none;\n",
              "  }\n",
              "\n",
              "  .colab-df-spinner {\n",
              "    border: 2px solid var(--fill-color);\n",
              "    border-color: transparent;\n",
              "    border-bottom-color: var(--fill-color);\n",
              "    animation:\n",
              "      spin 1s steps(1) infinite;\n",
              "  }\n",
              "\n",
              "  @keyframes spin {\n",
              "    0% {\n",
              "      border-color: transparent;\n",
              "      border-bottom-color: var(--fill-color);\n",
              "      border-left-color: var(--fill-color);\n",
              "    }\n",
              "    20% {\n",
              "      border-color: transparent;\n",
              "      border-left-color: var(--fill-color);\n",
              "      border-top-color: var(--fill-color);\n",
              "    }\n",
              "    30% {\n",
              "      border-color: transparent;\n",
              "      border-left-color: var(--fill-color);\n",
              "      border-top-color: var(--fill-color);\n",
              "      border-right-color: var(--fill-color);\n",
              "    }\n",
              "    40% {\n",
              "      border-color: transparent;\n",
              "      border-right-color: var(--fill-color);\n",
              "      border-top-color: var(--fill-color);\n",
              "    }\n",
              "    60% {\n",
              "      border-color: transparent;\n",
              "      border-right-color: var(--fill-color);\n",
              "    }\n",
              "    80% {\n",
              "      border-color: transparent;\n",
              "      border-right-color: var(--fill-color);\n",
              "      border-bottom-color: var(--fill-color);\n",
              "    }\n",
              "    90% {\n",
              "      border-color: transparent;\n",
              "      border-bottom-color: var(--fill-color);\n",
              "    }\n",
              "  }\n",
              "</style>\n",
              "\n",
              "  <script>\n",
              "    async function quickchart(key) {\n",
              "      const quickchartButtonEl =\n",
              "        document.querySelector('#' + key + ' button');\n",
              "      quickchartButtonEl.disabled = true;  // To prevent multiple clicks.\n",
              "      quickchartButtonEl.classList.add('colab-df-spinner');\n",
              "      try {\n",
              "        const charts = await google.colab.kernel.invokeFunction(\n",
              "            'suggestCharts', [key], {});\n",
              "      } catch (error) {\n",
              "        console.error('Error during call to suggestCharts:', error);\n",
              "      }\n",
              "      quickchartButtonEl.classList.remove('colab-df-spinner');\n",
              "      quickchartButtonEl.classList.add('colab-df-quickchart-complete');\n",
              "    }\n",
              "    (() => {\n",
              "      let quickchartButtonEl =\n",
              "        document.querySelector('#df-a39ed3bb-c068-4877-9863-c1130f3d953b button');\n",
              "      quickchartButtonEl.style.display =\n",
              "        google.colab.kernel.accessAllowed ? 'block' : 'none';\n",
              "    })();\n",
              "  </script>\n",
              "</div>\n",
              "    </div>\n",
              "  </div>\n"
            ]
          },
          "metadata": {},
          "execution_count": 96
        }
      ]
    },
    {
      "cell_type": "markdown",
      "source": [
        "## **Data** preprocessing"
      ],
      "metadata": {
        "id": "Uuwb48EqEuZj"
      }
    },
    {
      "cell_type": "code",
      "source": [
        "#continents_to_exclude = ['Antarctica', 'Asia', 'Europe', 'North America', 'Antarctica','South America','Oceania','All countries','Not stated']\n",
        "#migration_filtered = migration[~migration['Country'].isin(continents_to_exclude)]\n",
        "# List of countries to keep\n",
        "countries_to_keep = ['USA', 'India']\n",
        "\n",
        "# Filter out rows where the 'Country' column is not in the list of countries to keep\n",
        "migration_filtered_for_UIBBN = migration[migration['Country'].isin(countries_to_keep)]\n",
        "\n",
        "# Columns to one-hot encode\n",
        "columns_to_one_hot_encode = ['Country']\n",
        "\n",
        "# Perform one-hot encoding\n",
        "migration_encoded = pd.get_dummies(migration_filtered_for_UIBBN, columns=columns_to_one_hot_encode)\n",
        "\n",
        "print(migration_encoded)\n"
      ],
      "metadata": {
        "colab": {
          "base_uri": "https://localhost:8080/"
        },
        "id": "GLLfCOKaEw_4",
        "outputId": "2a0bbcec-c863-446c-d476-683144c5a7af"
      },
      "execution_count": 97,
      "outputs": [
        {
          "output_type": "stream",
          "name": "stdout",
          "text": [
            "     Year  Value  Country_India  Country_USA\n",
            "0    1979    -65              1            0\n",
            "1    1979     -4              1            0\n",
            "2    1979    -39              1            0\n",
            "3    1980     10              1            0\n",
            "4    1980     -3              1            0\n",
            "..    ...    ...            ...          ...\n",
            "223  2015     12              0            1\n",
            "224  2015   1142              0            1\n",
            "225  2016   -214              0            1\n",
            "226  2016      0              0            1\n",
            "227  2016   1286              0            1\n",
            "\n",
            "[228 rows x 4 columns]\n"
          ]
        }
      ]
    },
    {
      "cell_type": "markdown",
      "source": [
        "# Replacing 'Total All Citizenships' to 'other citizenship'"
      ],
      "metadata": {
        "id": "r79ITwhkE8Fm"
      }
    },
    {
      "cell_type": "code",
      "source": [
        "migration_encoded.to_csv('filtered_migration_data.csv', index=False)"
      ],
      "metadata": {
        "id": "iM4-DDI4FE6g"
      },
      "execution_count": 98,
      "outputs": []
    },
    {
      "cell_type": "code",
      "source": [
        "print(migration_encoded)"
      ],
      "metadata": {
        "colab": {
          "base_uri": "https://localhost:8080/"
        },
        "id": "X0gmUEQyFMpH",
        "outputId": "a0a22cf8-95c6-4e54-f0bd-e8ab360585be"
      },
      "execution_count": 99,
      "outputs": [
        {
          "output_type": "stream",
          "name": "stdout",
          "text": [
            "     Year  Value  Country_India  Country_USA\n",
            "0    1979    -65              1            0\n",
            "1    1979     -4              1            0\n",
            "2    1979    -39              1            0\n",
            "3    1980     10              1            0\n",
            "4    1980     -3              1            0\n",
            "..    ...    ...            ...          ...\n",
            "223  2015     12              0            1\n",
            "224  2015   1142              0            1\n",
            "225  2016   -214              0            1\n",
            "226  2016      0              0            1\n",
            "227  2016   1286              0            1\n",
            "\n",
            "[228 rows x 4 columns]\n"
          ]
        }
      ]
    },
    {
      "cell_type": "markdown",
      "source": [
        "filtered_migration.info()"
      ],
      "metadata": {
        "id": "VrawTnfFFRpT"
      }
    },
    {
      "cell_type": "code",
      "source": [
        "migration_encoded.isna().sum()"
      ],
      "metadata": {
        "colab": {
          "base_uri": "https://localhost:8080/"
        },
        "id": "1-OsmQulFZ-5",
        "outputId": "d786d834-6e03-4a9b-a20c-5c096c264090"
      },
      "execution_count": 100,
      "outputs": [
        {
          "output_type": "execute_result",
          "data": {
            "text/plain": [
              "Year             0\n",
              "Value            0\n",
              "Country_India    0\n",
              "Country_USA      0\n",
              "dtype: int64"
            ]
          },
          "metadata": {},
          "execution_count": 100
        }
      ]
    },
    {
      "cell_type": "code",
      "source": [
        "migration_encoded[\"Value\"].fillna(migration_encoded[\"Value\"].median(),inplace=True)\n",
        "migration_encoded.isna().sum()"
      ],
      "metadata": {
        "colab": {
          "base_uri": "https://localhost:8080/"
        },
        "id": "lxmWxJpoFdud",
        "outputId": "b0f9b3c8-3538-4904-9796-551775d9e6e7"
      },
      "execution_count": 101,
      "outputs": [
        {
          "output_type": "execute_result",
          "data": {
            "text/plain": [
              "Year             0\n",
              "Value            0\n",
              "Country_India    0\n",
              "Country_USA      0\n",
              "dtype: int64"
            ]
          },
          "metadata": {},
          "execution_count": 101
        }
      ]
    },
    {
      "cell_type": "code",
      "source": [
        "!pip install plotly"
      ],
      "metadata": {
        "colab": {
          "base_uri": "https://localhost:8080/"
        },
        "id": "FgqZcaHzFz-q",
        "outputId": "111d22ad-bca9-47f3-db11-ca1532d82456"
      },
      "execution_count": 102,
      "outputs": [
        {
          "output_type": "stream",
          "name": "stdout",
          "text": [
            "Requirement already satisfied: plotly in /usr/local/lib/python3.10/dist-packages (5.15.0)\n",
            "Requirement already satisfied: tenacity>=6.2.0 in /usr/local/lib/python3.10/dist-packages (from plotly) (8.2.3)\n",
            "Requirement already satisfied: packaging in /usr/local/lib/python3.10/dist-packages (from plotly) (23.2)\n"
          ]
        }
      ]
    },
    {
      "cell_type": "code",
      "source": [
        "migration_encoded.isna().sum()"
      ],
      "metadata": {
        "colab": {
          "base_uri": "https://localhost:8080/"
        },
        "id": "XrO8exyMHSAv",
        "outputId": "5eaf3eef-cc01-49d3-d921-a3a1d928716b"
      },
      "execution_count": 103,
      "outputs": [
        {
          "output_type": "execute_result",
          "data": {
            "text/plain": [
              "Year             0\n",
              "Value            0\n",
              "Country_India    0\n",
              "Country_USA      0\n",
              "dtype: int64"
            ]
          },
          "metadata": {},
          "execution_count": 103
        }
      ]
    },
    {
      "cell_type": "code",
      "source": [
        "migration_encoded[\"Value\"].fillna(migration_encoded[\"Value\"].median(),inplace=True)\n",
        "migration_encoded.isna().sum()"
      ],
      "metadata": {
        "colab": {
          "base_uri": "https://localhost:8080/"
        },
        "id": "0wfSQwmp0NzS",
        "outputId": "daa95ab6-9049-4fb7-98cb-e1109d07cd79"
      },
      "execution_count": 104,
      "outputs": [
        {
          "output_type": "execute_result",
          "data": {
            "text/plain": [
              "Year             0\n",
              "Value            0\n",
              "Country_India    0\n",
              "Country_USA      0\n",
              "dtype: int64"
            ]
          },
          "metadata": {},
          "execution_count": 104
        }
      ]
    },
    {
      "cell_type": "code",
      "source": [
        "# Separate features (X) and target variable (y)\n",
        "x_data = migration_encoded.drop('Value', axis=1)  # Drop the target variable 'Value'\n",
        "y_data = migration_encoded['Value']\n",
        "\n",
        "print(x_data.head())  # Display the first few rows of the features\n",
        "print(y_data.head())  # Display the first few rows of the target variable"
      ],
      "metadata": {
        "id": "FcWYGllFIspj",
        "colab": {
          "base_uri": "https://localhost:8080/"
        },
        "outputId": "40289ee3-7b6c-4d37-b927-64f264e7a5b4"
      },
      "execution_count": 105,
      "outputs": [
        {
          "output_type": "stream",
          "name": "stdout",
          "text": [
            "   Year  Country_India  Country_USA\n",
            "0  1979              1            0\n",
            "1  1979              1            0\n",
            "2  1979              1            0\n",
            "3  1980              1            0\n",
            "4  1980              1            0\n",
            "0   -65\n",
            "1    -4\n",
            "2   -39\n",
            "3    10\n",
            "4    -3\n",
            "Name: Value, dtype: int64\n"
          ]
        }
      ]
    },
    {
      "cell_type": "code",
      "source": [
        "x_training_data, x_test_data, y_training_data, y_test_data = train_test_split(x_data, y_data, test_size = 0.30, random_state=9)\n"
      ],
      "metadata": {
        "id": "MEElOjKDIvOG"
      },
      "execution_count": 106,
      "outputs": []
    },
    {
      "cell_type": "markdown",
      "source": [
        "#**Random Forest Regression**"
      ],
      "metadata": {
        "id": "j-8UVwMEHrdq"
      }
    },
    {
      "cell_type": "code",
      "source": [
        "model_rf = RandomForestRegressor(n_estimators=70,max_features = 3,max_depth=5,n_jobs=-1)\n",
        "# Train the model on the training data.\n",
        "print(y_training_data)\n",
        "model_rf.fit(x_training_data, y_training_data)\n",
        "# Make predictions on the test data.\n",
        "predictions_rf = model_rf.predict(x_test_data)"
      ],
      "metadata": {
        "colab": {
          "base_uri": "https://localhost:8080/"
        },
        "id": "C_nbE9StHsIr",
        "outputId": "89a97c21-be65-46bd-eee8-74ef3d84577a"
      },
      "execution_count": 107,
      "outputs": [
        {
          "output_type": "stream",
          "name": "stdout",
          "text": [
            "77     2449\n",
            "51       20\n",
            "206    1248\n",
            "11       25\n",
            "149     210\n",
            "       ... \n",
            "56     1443\n",
            "182    -369\n",
            "227    1286\n",
            "92     5951\n",
            "126      76\n",
            "Name: Value, Length: 159, dtype: int64\n"
          ]
        }
      ]
    },
    {
      "cell_type": "code",
      "source": [
        "model_rf.score(x_test_data, y_test_data)"
      ],
      "metadata": {
        "colab": {
          "base_uri": "https://localhost:8080/"
        },
        "id": "yR9PCnm7Hz1u",
        "outputId": "6226d3ab-3c11-4bd6-8ee7-8a4caf3cd30e"
      },
      "execution_count": 108,
      "outputs": [
        {
          "output_type": "execute_result",
          "data": {
            "text/plain": [
              "0.06511931133033388"
            ]
          },
          "metadata": {},
          "execution_count": 108
        }
      ]
    },
    {
      "cell_type": "code",
      "source": [
        "from sklearn.metrics import mean_squared_error\n",
        "\n",
        "# Calculate Mean Squared Error\n",
        "mse_rf = mean_squared_error(y_test_data, predictions_rf)\n",
        "\n",
        "print(f\"Mean Squared Error of Random Forest Regression: {mse_rf}\")\n"
      ],
      "metadata": {
        "colab": {
          "base_uri": "https://localhost:8080/"
        },
        "id": "-sUnZGInH0Kx",
        "outputId": "6f84069d-2ac7-41d1-cb76-73104f0e1f84"
      },
      "execution_count": 109,
      "outputs": [
        {
          "output_type": "stream",
          "name": "stdout",
          "text": [
            "Mean Squared Error of Random Forest Regression: 2566674.1180263623\n"
          ]
        }
      ]
    },
    {
      "cell_type": "markdown",
      "source": [],
      "metadata": {
        "id": "vLNjBGJAYyYM"
      }
    },
    {
      "cell_type": "markdown",
      "source": [
        "# **Gradient Boosting Regression**"
      ],
      "metadata": {
        "id": "OR43QiEuVXmn"
      }
    },
    {
      "cell_type": "code",
      "source": [
        "from sklearn.ensemble import GradientBoostingRegressor\n",
        "from sklearn.metrics import mean_squared_error, r2_score\n",
        "\n",
        "# Initialize and train the Gradient Boosting model\n",
        "gb_model = GradientBoostingRegressor(n_estimators=100, random_state=42)\n",
        "gb_model.fit(x_training_data, y_training_data)\n",
        "\n",
        "# Make predictions on the test set\n",
        "predictions_gb = gb_model.predict(x_test_data)\n",
        "\n",
        "# Evaluate the model\n",
        "mse_gb = mean_squared_error(y_test_data, predictions_gb)\n",
        "r2_gb = r2_score(y_test_data, predictions_gb)\n",
        "\n",
        "print(f\"Mean Squared Error on Test Set (Gradient Boosting): {mse_gb}\")\n",
        "print(f\"R² Score on Test Set (Gradient Boosting): {r2_gb}\")\n"
      ],
      "metadata": {
        "colab": {
          "base_uri": "https://localhost:8080/"
        },
        "id": "o459R811VYGR",
        "outputId": "819966ca-bb28-4584-e7b7-f0eb469af0a5"
      },
      "execution_count": 110,
      "outputs": [
        {
          "output_type": "stream",
          "name": "stdout",
          "text": [
            "Mean Squared Error on Test Set (Gradient Boosting): 3028954.7758833836\n",
            "R² Score on Test Set (Gradient Boosting): -0.10326095040244887\n"
          ]
        }
      ]
    },
    {
      "cell_type": "markdown",
      "source": [
        "#Feature for next 10 years"
      ],
      "metadata": {
        "id": "JROeeYum1jrU"
      }
    },
    {
      "cell_type": "code",
      "source": [
        "import pandas as pd\n",
        "import numpy as np\n",
        "from sklearn.ensemble import RandomForestRegressor\n",
        "\n",
        "# Assuming migration_encoded is your one-hot encoded dataset\n",
        "# Columns to one-hot encode\n",
        "columns_to_one_hot_encode = ['Country']\n",
        "\n",
        "# Perform one-hot encoding\n",
        "migration_encoded = pd.get_dummies(migration_filtered_for_UIBBN, columns=columns_to_one_hot_encode)\n",
        "\n",
        "# Generate future years (next 10 years)\n",
        "future_years = range(2017, 2027)  # Adjust the range as needed\n",
        "\n",
        "# Create a list to store future data\n",
        "future_data = []\n",
        "\n",
        "# Loop through combinations of future years, countries, citizenships, and measures\n",
        "for year in future_years:\n",
        "    for country in migration_filtered_for_UIBBN['Country'].unique():\n",
        "\n",
        "\n",
        "          future_data.append({\n",
        "                    'Year': year,\n",
        "                    'Country': country,\n",
        "\n",
        "\n",
        "                })\n",
        "\n",
        "# Create a DataFrame from the future data\n",
        "future_df = pd.DataFrame(future_data)\n",
        "\n",
        "# Perform one-hot encoding on the future data\n",
        "future_df_encoded = pd.get_dummies(future_df, columns=['Country'])\n",
        "\n",
        "# Drop the original 'Country', 'Citizenship', and 'Measure' columns after encoding\n",
        "columns_to_drop = ['Country']\n",
        "\n",
        "# Drop the corresponding columns if they exist\n",
        "migration_encoded.drop(columns=columns_to_drop, errors='ignore', inplace=True)\n",
        "\n",
        "# Concatenate the original and future DataFrames\n",
        "extended_df = pd.concat([migration_encoded, future_df_encoded], ignore_index=True)\n",
        "\n",
        "# Split the data into historical (before 2017) and future (2017-2026) data\n",
        "historical_data = extended_df[extended_df['Year'] < 2017]\n",
        "future_data = extended_df[(extended_df['Year'] >= 2017) & (extended_df['Year'] <= 2026)]\n",
        "\n",
        "# Features and target variable for historical data\n",
        "historical_features = historical_data.drop('Value', axis=1)\n",
        "historical_target = historical_data['Value']\n",
        "\n",
        "# Features for future data\n",
        "future_data_features = future_data.drop('Value', axis=1)\n",
        "\n",
        "# Define the Random Forest model\n",
        "rf_model = RandomForestRegressor()\n",
        "\n",
        "# Train the model on historical data\n",
        "rf_model.fit(historical_features, historical_target)\n",
        "\n",
        "# Generate predictions for each unique combination of future years, countries, citizenships, and measures\n",
        "# Generate predictions for each unique combination of future years, countries, citizenships, and measures\n",
        "# Generate predictions for each unique combination of future years, countries, citizenships, and measures\n",
        "for index, row in future_data.iterrows():\n",
        "    year = row['Year']\n",
        "\n",
        "    if year > 2016:\n",
        "        # If the year is after 2016, generate a random prediction\n",
        "        historical_mean = historical_target.mean()\n",
        "        historical_std = historical_target.std()\n",
        "        random_value = np.random.normal(historical_mean, historical_std)\n",
        "        prediction_value = int(random_value)  # Allow negative predictions\n",
        "    else:\n",
        "        # For years before 2017, use the Random Forest model\n",
        "        prediction_features = row.drop('Value')\n",
        "        prediction_features_encoded = pd.DataFrame([prediction_features])\n",
        "        # Ensure 'Value' column is included in prediction features\n",
        "        prediction_features_encoded['Value'] = 0  # Dummy value, as 'Value' will be replaced\n",
        "        prediction_value = int(rf_model.predict(prediction_features_encoded)[0])\n",
        "\n",
        "    # Assign the rounded prediction to the 'Value' column in future_data\n",
        "    future_data.at[index, 'Value'] = prediction_value\n",
        "\n",
        "\n",
        "\n",
        "# Concatenate the historical and updated future data\n",
        "extended_df = pd.concat([historical_data, future_data], ignore_index=True)\n",
        "\n",
        "# Export the extended DataFrame with predictions to Excel\n",
        "extended_excel_path = 'extended_migration_data.xlsx'\n",
        "extended_df.to_excel(extended_excel_path, index=False)\n",
        "\n",
        "print(f\"Extended data (with predictions) exported to: {extended_excel_path}\")\n"
      ],
      "metadata": {
        "id": "AxPsWoer38ru",
        "colab": {
          "base_uri": "https://localhost:8080/"
        },
        "outputId": "dd5e72fe-299d-42a8-e6eb-22f1b95d2ba6"
      },
      "execution_count": 113,
      "outputs": [
        {
          "output_type": "stream",
          "name": "stdout",
          "text": [
            "Extended data (with predictions) exported to: extended_migration_data.xlsx\n"
          ]
        }
      ]
    },
    {
      "cell_type": "markdown",
      "source": [
        "#**Net Migration Over Historical and Future Years**"
      ],
      "metadata": {
        "id": "iegPBJJJcRm-"
      }
    },
    {
      "cell_type": "code",
      "source": [
        "import pandas as pd\n",
        "\n",
        "# Assuming 'extended_df' is your extended DataFrame with predictions\n",
        "\n",
        "# Define the selected countries\n",
        "selected_countries = ['Country_India', 'Country_USA']\n",
        "\n",
        "# Create a new 'Country' column based on the selected countries\n",
        "extended_df['Country'] = extended_df[selected_countries].idxmax(axis=1).str.replace('Country_', '')\n",
        "\n",
        "# Group data by year and country, and sum the values\n",
        "grouped_data = extended_df.groupby(['Year', 'Country'])['Value'].sum().reset_index()\n",
        "\n",
        "# Create an interactive bar chart using Plotly for net migration\n",
        "fig = px.bar(grouped_data, x='Year', y='Value', color='Country',\n",
        "             labels={'Value': 'Net Migration', 'Year': 'Year'},\n",
        "             title='Net Migration for Selected Countries Over Historical and Future Years')\n",
        "\n",
        "# Show the figure\n",
        "fig.show()\n"
      ],
      "metadata": {
        "id": "FOG8TxesMLHq",
        "outputId": "1992c440-64a8-48fb-955f-5c21c4da54ed",
        "colab": {
          "base_uri": "https://localhost:8080/",
          "height": 542
        }
      },
      "execution_count": 116,
      "outputs": [
        {
          "output_type": "display_data",
          "data": {
            "text/html": [
              "<html>\n",
              "<head><meta charset=\"utf-8\" /></head>\n",
              "<body>\n",
              "    <div>            <script src=\"https://cdnjs.cloudflare.com/ajax/libs/mathjax/2.7.5/MathJax.js?config=TeX-AMS-MML_SVG\"></script><script type=\"text/javascript\">if (window.MathJax && window.MathJax.Hub && window.MathJax.Hub.Config) {window.MathJax.Hub.Config({SVG: {font: \"STIX-Web\"}});}</script>                <script type=\"text/javascript\">window.PlotlyConfig = {MathJaxConfig: 'local'};</script>\n",
              "        <script charset=\"utf-8\" src=\"https://cdn.plot.ly/plotly-2.24.1.min.js\"></script>                <div id=\"33c6dbe1-bd4e-4bd3-98df-a61e42ac7d20\" class=\"plotly-graph-div\" style=\"height:525px; width:100%;\"></div>            <script type=\"text/javascript\">                                    window.PLOTLYENV=window.PLOTLYENV || {};                                    if (document.getElementById(\"33c6dbe1-bd4e-4bd3-98df-a61e42ac7d20\")) {                    Plotly.newPlot(                        \"33c6dbe1-bd4e-4bd3-98df-a61e42ac7d20\",                        [{\"alignmentgroup\":\"True\",\"hovertemplate\":\"Country=India\\u003cbr\\u003eYear=%{x}\\u003cbr\\u003eNet Migration=%{y}\\u003cextra\\u003e\\u003c\\u002fextra\\u003e\",\"legendgroup\":\"India\",\"marker\":{\"color\":\"#636efa\",\"pattern\":{\"shape\":\"\"}},\"name\":\"India\",\"offsetgroup\":\"India\",\"orientation\":\"v\",\"showlegend\":true,\"textposition\":\"auto\",\"x\":[1979,1980,1981,1982,1983,1984,1985,1986,1987,1988,1989,1990,1991,1992,1993,1994,1995,1996,1997,1998,1999,2000,2001,2002,2003,2004,2005,2006,2007,2008,2009,2010,2011,2012,2013,2014,2015,2016,2017,2018,2019,2020,2021,2022,2023,2024,2025,2026],\"xaxis\":\"x\",\"y\":[-108.0,88.0,57.0,16.0,-37.0,73.0,21.0,66.0,156.0,111.0,110.0,80.0,-168.0,85.0,353.0,817.0,1615.0,2315.0,1408.0,1136.0,1557.0,2214.0,3969.0,6590.0,4848.0,2430.0,1888.0,1970.0,3415.0,5069.0,5927.0,6234.0,4946.0,5076.0,5402.0,10076.0,13368.0,8991.0,-2083.0,-2399.0,-901.0,-189.0,1141.0,2299.0,37.0,1878.0,1830.0,690.0],\"yaxis\":\"y\",\"type\":\"bar\"},{\"alignmentgroup\":\"True\",\"hovertemplate\":\"Country=USA\\u003cbr\\u003eYear=%{x}\\u003cbr\\u003eNet Migration=%{y}\\u003cextra\\u003e\\u003c\\u002fextra\\u003e\",\"legendgroup\":\"USA\",\"marker\":{\"color\":\"#EF553B\",\"pattern\":{\"shape\":\"\"}},\"name\":\"USA\",\"offsetgroup\":\"USA\",\"orientation\":\"v\",\"showlegend\":true,\"textposition\":\"auto\",\"x\":[1979,1980,1981,1982,1983,1984,1985,1986,1987,1988,1989,1990,1991,1992,1993,1994,1995,1996,1997,1998,1999,2000,2001,2002,2003,2004,2005,2006,2007,2008,2009,2010,2011,2012,2013,2014,2015,2016,2017,2018,2019,2020,2021,2022,2023,2024,2025,2026],\"xaxis\":\"x\",\"y\":[-1531.0,-719.0,-146.0,349.0,398.0,-32.0,-88.0,277.0,1113.0,-42.0,51.0,147.0,-531.0,-517.0,66.0,966.0,1201.0,438.0,-559.0,-1054.0,-1168.0,-2089.0,-1119.0,934.0,1417.0,1236.0,798.0,996.0,872.0,878.0,1394.0,823.0,1047.0,569.0,610.0,564.0,961.0,1072.0,1724.0,37.0,5373.0,-1157.0,2167.0,-284.0,-2181.0,-1276.0,-634.0,1512.0],\"yaxis\":\"y\",\"type\":\"bar\"}],                        {\"template\":{\"data\":{\"histogram2dcontour\":[{\"type\":\"histogram2dcontour\",\"colorbar\":{\"outlinewidth\":0,\"ticks\":\"\"},\"colorscale\":[[0.0,\"#0d0887\"],[0.1111111111111111,\"#46039f\"],[0.2222222222222222,\"#7201a8\"],[0.3333333333333333,\"#9c179e\"],[0.4444444444444444,\"#bd3786\"],[0.5555555555555556,\"#d8576b\"],[0.6666666666666666,\"#ed7953\"],[0.7777777777777778,\"#fb9f3a\"],[0.8888888888888888,\"#fdca26\"],[1.0,\"#f0f921\"]]}],\"choropleth\":[{\"type\":\"choropleth\",\"colorbar\":{\"outlinewidth\":0,\"ticks\":\"\"}}],\"histogram2d\":[{\"type\":\"histogram2d\",\"colorbar\":{\"outlinewidth\":0,\"ticks\":\"\"},\"colorscale\":[[0.0,\"#0d0887\"],[0.1111111111111111,\"#46039f\"],[0.2222222222222222,\"#7201a8\"],[0.3333333333333333,\"#9c179e\"],[0.4444444444444444,\"#bd3786\"],[0.5555555555555556,\"#d8576b\"],[0.6666666666666666,\"#ed7953\"],[0.7777777777777778,\"#fb9f3a\"],[0.8888888888888888,\"#fdca26\"],[1.0,\"#f0f921\"]]}],\"heatmap\":[{\"type\":\"heatmap\",\"colorbar\":{\"outlinewidth\":0,\"ticks\":\"\"},\"colorscale\":[[0.0,\"#0d0887\"],[0.1111111111111111,\"#46039f\"],[0.2222222222222222,\"#7201a8\"],[0.3333333333333333,\"#9c179e\"],[0.4444444444444444,\"#bd3786\"],[0.5555555555555556,\"#d8576b\"],[0.6666666666666666,\"#ed7953\"],[0.7777777777777778,\"#fb9f3a\"],[0.8888888888888888,\"#fdca26\"],[1.0,\"#f0f921\"]]}],\"heatmapgl\":[{\"type\":\"heatmapgl\",\"colorbar\":{\"outlinewidth\":0,\"ticks\":\"\"},\"colorscale\":[[0.0,\"#0d0887\"],[0.1111111111111111,\"#46039f\"],[0.2222222222222222,\"#7201a8\"],[0.3333333333333333,\"#9c179e\"],[0.4444444444444444,\"#bd3786\"],[0.5555555555555556,\"#d8576b\"],[0.6666666666666666,\"#ed7953\"],[0.7777777777777778,\"#fb9f3a\"],[0.8888888888888888,\"#fdca26\"],[1.0,\"#f0f921\"]]}],\"contourcarpet\":[{\"type\":\"contourcarpet\",\"colorbar\":{\"outlinewidth\":0,\"ticks\":\"\"}}],\"contour\":[{\"type\":\"contour\",\"colorbar\":{\"outlinewidth\":0,\"ticks\":\"\"},\"colorscale\":[[0.0,\"#0d0887\"],[0.1111111111111111,\"#46039f\"],[0.2222222222222222,\"#7201a8\"],[0.3333333333333333,\"#9c179e\"],[0.4444444444444444,\"#bd3786\"],[0.5555555555555556,\"#d8576b\"],[0.6666666666666666,\"#ed7953\"],[0.7777777777777778,\"#fb9f3a\"],[0.8888888888888888,\"#fdca26\"],[1.0,\"#f0f921\"]]}],\"surface\":[{\"type\":\"surface\",\"colorbar\":{\"outlinewidth\":0,\"ticks\":\"\"},\"colorscale\":[[0.0,\"#0d0887\"],[0.1111111111111111,\"#46039f\"],[0.2222222222222222,\"#7201a8\"],[0.3333333333333333,\"#9c179e\"],[0.4444444444444444,\"#bd3786\"],[0.5555555555555556,\"#d8576b\"],[0.6666666666666666,\"#ed7953\"],[0.7777777777777778,\"#fb9f3a\"],[0.8888888888888888,\"#fdca26\"],[1.0,\"#f0f921\"]]}],\"mesh3d\":[{\"type\":\"mesh3d\",\"colorbar\":{\"outlinewidth\":0,\"ticks\":\"\"}}],\"scatter\":[{\"fillpattern\":{\"fillmode\":\"overlay\",\"size\":10,\"solidity\":0.2},\"type\":\"scatter\"}],\"parcoords\":[{\"type\":\"parcoords\",\"line\":{\"colorbar\":{\"outlinewidth\":0,\"ticks\":\"\"}}}],\"scatterpolargl\":[{\"type\":\"scatterpolargl\",\"marker\":{\"colorbar\":{\"outlinewidth\":0,\"ticks\":\"\"}}}],\"bar\":[{\"error_x\":{\"color\":\"#2a3f5f\"},\"error_y\":{\"color\":\"#2a3f5f\"},\"marker\":{\"line\":{\"color\":\"#E5ECF6\",\"width\":0.5},\"pattern\":{\"fillmode\":\"overlay\",\"size\":10,\"solidity\":0.2}},\"type\":\"bar\"}],\"scattergeo\":[{\"type\":\"scattergeo\",\"marker\":{\"colorbar\":{\"outlinewidth\":0,\"ticks\":\"\"}}}],\"scatterpolar\":[{\"type\":\"scatterpolar\",\"marker\":{\"colorbar\":{\"outlinewidth\":0,\"ticks\":\"\"}}}],\"histogram\":[{\"marker\":{\"pattern\":{\"fillmode\":\"overlay\",\"size\":10,\"solidity\":0.2}},\"type\":\"histogram\"}],\"scattergl\":[{\"type\":\"scattergl\",\"marker\":{\"colorbar\":{\"outlinewidth\":0,\"ticks\":\"\"}}}],\"scatter3d\":[{\"type\":\"scatter3d\",\"line\":{\"colorbar\":{\"outlinewidth\":0,\"ticks\":\"\"}},\"marker\":{\"colorbar\":{\"outlinewidth\":0,\"ticks\":\"\"}}}],\"scattermapbox\":[{\"type\":\"scattermapbox\",\"marker\":{\"colorbar\":{\"outlinewidth\":0,\"ticks\":\"\"}}}],\"scatterternary\":[{\"type\":\"scatterternary\",\"marker\":{\"colorbar\":{\"outlinewidth\":0,\"ticks\":\"\"}}}],\"scattercarpet\":[{\"type\":\"scattercarpet\",\"marker\":{\"colorbar\":{\"outlinewidth\":0,\"ticks\":\"\"}}}],\"carpet\":[{\"aaxis\":{\"endlinecolor\":\"#2a3f5f\",\"gridcolor\":\"white\",\"linecolor\":\"white\",\"minorgridcolor\":\"white\",\"startlinecolor\":\"#2a3f5f\"},\"baxis\":{\"endlinecolor\":\"#2a3f5f\",\"gridcolor\":\"white\",\"linecolor\":\"white\",\"minorgridcolor\":\"white\",\"startlinecolor\":\"#2a3f5f\"},\"type\":\"carpet\"}],\"table\":[{\"cells\":{\"fill\":{\"color\":\"#EBF0F8\"},\"line\":{\"color\":\"white\"}},\"header\":{\"fill\":{\"color\":\"#C8D4E3\"},\"line\":{\"color\":\"white\"}},\"type\":\"table\"}],\"barpolar\":[{\"marker\":{\"line\":{\"color\":\"#E5ECF6\",\"width\":0.5},\"pattern\":{\"fillmode\":\"overlay\",\"size\":10,\"solidity\":0.2}},\"type\":\"barpolar\"}],\"pie\":[{\"automargin\":true,\"type\":\"pie\"}]},\"layout\":{\"autotypenumbers\":\"strict\",\"colorway\":[\"#636efa\",\"#EF553B\",\"#00cc96\",\"#ab63fa\",\"#FFA15A\",\"#19d3f3\",\"#FF6692\",\"#B6E880\",\"#FF97FF\",\"#FECB52\"],\"font\":{\"color\":\"#2a3f5f\"},\"hovermode\":\"closest\",\"hoverlabel\":{\"align\":\"left\"},\"paper_bgcolor\":\"white\",\"plot_bgcolor\":\"#E5ECF6\",\"polar\":{\"bgcolor\":\"#E5ECF6\",\"angularaxis\":{\"gridcolor\":\"white\",\"linecolor\":\"white\",\"ticks\":\"\"},\"radialaxis\":{\"gridcolor\":\"white\",\"linecolor\":\"white\",\"ticks\":\"\"}},\"ternary\":{\"bgcolor\":\"#E5ECF6\",\"aaxis\":{\"gridcolor\":\"white\",\"linecolor\":\"white\",\"ticks\":\"\"},\"baxis\":{\"gridcolor\":\"white\",\"linecolor\":\"white\",\"ticks\":\"\"},\"caxis\":{\"gridcolor\":\"white\",\"linecolor\":\"white\",\"ticks\":\"\"}},\"coloraxis\":{\"colorbar\":{\"outlinewidth\":0,\"ticks\":\"\"}},\"colorscale\":{\"sequential\":[[0.0,\"#0d0887\"],[0.1111111111111111,\"#46039f\"],[0.2222222222222222,\"#7201a8\"],[0.3333333333333333,\"#9c179e\"],[0.4444444444444444,\"#bd3786\"],[0.5555555555555556,\"#d8576b\"],[0.6666666666666666,\"#ed7953\"],[0.7777777777777778,\"#fb9f3a\"],[0.8888888888888888,\"#fdca26\"],[1.0,\"#f0f921\"]],\"sequentialminus\":[[0.0,\"#0d0887\"],[0.1111111111111111,\"#46039f\"],[0.2222222222222222,\"#7201a8\"],[0.3333333333333333,\"#9c179e\"],[0.4444444444444444,\"#bd3786\"],[0.5555555555555556,\"#d8576b\"],[0.6666666666666666,\"#ed7953\"],[0.7777777777777778,\"#fb9f3a\"],[0.8888888888888888,\"#fdca26\"],[1.0,\"#f0f921\"]],\"diverging\":[[0,\"#8e0152\"],[0.1,\"#c51b7d\"],[0.2,\"#de77ae\"],[0.3,\"#f1b6da\"],[0.4,\"#fde0ef\"],[0.5,\"#f7f7f7\"],[0.6,\"#e6f5d0\"],[0.7,\"#b8e186\"],[0.8,\"#7fbc41\"],[0.9,\"#4d9221\"],[1,\"#276419\"]]},\"xaxis\":{\"gridcolor\":\"white\",\"linecolor\":\"white\",\"ticks\":\"\",\"title\":{\"standoff\":15},\"zerolinecolor\":\"white\",\"automargin\":true,\"zerolinewidth\":2},\"yaxis\":{\"gridcolor\":\"white\",\"linecolor\":\"white\",\"ticks\":\"\",\"title\":{\"standoff\":15},\"zerolinecolor\":\"white\",\"automargin\":true,\"zerolinewidth\":2},\"scene\":{\"xaxis\":{\"backgroundcolor\":\"#E5ECF6\",\"gridcolor\":\"white\",\"linecolor\":\"white\",\"showbackground\":true,\"ticks\":\"\",\"zerolinecolor\":\"white\",\"gridwidth\":2},\"yaxis\":{\"backgroundcolor\":\"#E5ECF6\",\"gridcolor\":\"white\",\"linecolor\":\"white\",\"showbackground\":true,\"ticks\":\"\",\"zerolinecolor\":\"white\",\"gridwidth\":2},\"zaxis\":{\"backgroundcolor\":\"#E5ECF6\",\"gridcolor\":\"white\",\"linecolor\":\"white\",\"showbackground\":true,\"ticks\":\"\",\"zerolinecolor\":\"white\",\"gridwidth\":2}},\"shapedefaults\":{\"line\":{\"color\":\"#2a3f5f\"}},\"annotationdefaults\":{\"arrowcolor\":\"#2a3f5f\",\"arrowhead\":0,\"arrowwidth\":1},\"geo\":{\"bgcolor\":\"white\",\"landcolor\":\"#E5ECF6\",\"subunitcolor\":\"white\",\"showland\":true,\"showlakes\":true,\"lakecolor\":\"white\"},\"title\":{\"x\":0.05},\"mapbox\":{\"style\":\"light\"}}},\"xaxis\":{\"anchor\":\"y\",\"domain\":[0.0,1.0],\"title\":{\"text\":\"Year\"}},\"yaxis\":{\"anchor\":\"x\",\"domain\":[0.0,1.0],\"title\":{\"text\":\"Net Migration\"}},\"legend\":{\"title\":{\"text\":\"Country\"},\"tracegroupgap\":0},\"title\":{\"text\":\"Net Migration for Selected Countries Over Historical and Future Years\"},\"barmode\":\"relative\"},                        {\"responsive\": true}                    ).then(function(){\n",
              "                            \n",
              "var gd = document.getElementById('33c6dbe1-bd4e-4bd3-98df-a61e42ac7d20');\n",
              "var x = new MutationObserver(function (mutations, observer) {{\n",
              "        var display = window.getComputedStyle(gd).display;\n",
              "        if (!display || display === 'none') {{\n",
              "            console.log([gd, 'removed!']);\n",
              "            Plotly.purge(gd);\n",
              "            observer.disconnect();\n",
              "        }}\n",
              "}});\n",
              "\n",
              "// Listen for the removal of the full notebook cells\n",
              "var notebookContainer = gd.closest('#notebook-container');\n",
              "if (notebookContainer) {{\n",
              "    x.observe(notebookContainer, {childList: true});\n",
              "}}\n",
              "\n",
              "// Listen for the clearing of the current output cell\n",
              "var outputEl = gd.closest('.output');\n",
              "if (outputEl) {{\n",
              "    x.observe(outputEl, {childList: true});\n",
              "}}\n",
              "\n",
              "                        })                };                            </script>        </div>\n",
              "</body>\n",
              "</html>"
            ]
          },
          "metadata": {}
        }
      ]
    },
    {
      "cell_type": "code",
      "source": [],
      "metadata": {
        "id": "EX38Zv9odNPc"
      },
      "execution_count": null,
      "outputs": []
    },
    {
      "cell_type": "markdown",
      "source": [
        "#**SNS Heatmap**"
      ],
      "metadata": {
        "id": "j5PDLURHchts"
      }
    },
    {
      "cell_type": "code",
      "source": [
        "import pandas as pd\n",
        "import plotly.graph_objects as go\n",
        "\n",
        "# Assuming 'extended_df' is your extended DataFrame with predictions\n",
        "\n",
        "# Group data by year, country, and citizenship, and sum the values\n",
        "grouped_data = extended_df.groupby(['Year', 'Country'])['Value'].sum().reset_index()\n",
        "\n",
        "# Create a pivot table for the heatmap\n",
        "heatmap_data = grouped_data.pivot_table(index='Country', columns='Year', values='Value', aggfunc='sum')\n",
        "\n",
        "# Create a Plotly heatmap\n",
        "fig = go.Figure(data=go.Heatmap(\n",
        "    z=heatmap_data.values,\n",
        "    x=heatmap_data.columns,\n",
        "    y=heatmap_data.index,\n",
        "    colorscale='Viridis',\n",
        "    colorbar=dict(title='Net Migration'),\n",
        "))\n",
        "\n",
        "fig.update_layout(\n",
        "    title='Net Migration Heatmap Over Years',\n",
        "    xaxis=dict(title='Year'),\n",
        "    yaxis=dict(title='Country'),\n",
        ")\n",
        "\n",
        "# Show the figure\n",
        "fig.show()\n"
      ],
      "metadata": {
        "id": "2kATitE75UK7",
        "colab": {
          "base_uri": "https://localhost:8080/",
          "height": 542
        },
        "outputId": "5fdce047-bdc2-441c-9c79-e91605e1ed4a"
      },
      "execution_count": 117,
      "outputs": [
        {
          "output_type": "display_data",
          "data": {
            "text/html": [
              "<html>\n",
              "<head><meta charset=\"utf-8\" /></head>\n",
              "<body>\n",
              "    <div>            <script src=\"https://cdnjs.cloudflare.com/ajax/libs/mathjax/2.7.5/MathJax.js?config=TeX-AMS-MML_SVG\"></script><script type=\"text/javascript\">if (window.MathJax && window.MathJax.Hub && window.MathJax.Hub.Config) {window.MathJax.Hub.Config({SVG: {font: \"STIX-Web\"}});}</script>                <script type=\"text/javascript\">window.PlotlyConfig = {MathJaxConfig: 'local'};</script>\n",
              "        <script charset=\"utf-8\" src=\"https://cdn.plot.ly/plotly-2.24.1.min.js\"></script>                <div id=\"5bcff063-e812-4d32-b3ed-30905fc2a4cc\" class=\"plotly-graph-div\" style=\"height:525px; width:100%;\"></div>            <script type=\"text/javascript\">                                    window.PLOTLYENV=window.PLOTLYENV || {};                                    if (document.getElementById(\"5bcff063-e812-4d32-b3ed-30905fc2a4cc\")) {                    Plotly.newPlot(                        \"5bcff063-e812-4d32-b3ed-30905fc2a4cc\",                        [{\"colorbar\":{\"title\":{\"text\":\"Net Migration\"}},\"colorscale\":[[0.0,\"#440154\"],[0.1111111111111111,\"#482878\"],[0.2222222222222222,\"#3e4989\"],[0.3333333333333333,\"#31688e\"],[0.4444444444444444,\"#26828e\"],[0.5555555555555556,\"#1f9e89\"],[0.6666666666666666,\"#35b779\"],[0.7777777777777778,\"#6ece58\"],[0.8888888888888888,\"#b5de2b\"],[1.0,\"#fde725\"]],\"x\":[1979,1980,1981,1982,1983,1984,1985,1986,1987,1988,1989,1990,1991,1992,1993,1994,1995,1996,1997,1998,1999,2000,2001,2002,2003,2004,2005,2006,2007,2008,2009,2010,2011,2012,2013,2014,2015,2016,2017,2018,2019,2020,2021,2022,2023,2024,2025,2026],\"y\":[\"India\",\"USA\"],\"z\":[[-108.0,88.0,57.0,16.0,-37.0,73.0,21.0,66.0,156.0,111.0,110.0,80.0,-168.0,85.0,353.0,817.0,1615.0,2315.0,1408.0,1136.0,1557.0,2214.0,3969.0,6590.0,4848.0,2430.0,1888.0,1970.0,3415.0,5069.0,5927.0,6234.0,4946.0,5076.0,5402.0,10076.0,13368.0,8991.0,-2083.0,-2399.0,-901.0,-189.0,1141.0,2299.0,37.0,1878.0,1830.0,690.0],[-1531.0,-719.0,-146.0,349.0,398.0,-32.0,-88.0,277.0,1113.0,-42.0,51.0,147.0,-531.0,-517.0,66.0,966.0,1201.0,438.0,-559.0,-1054.0,-1168.0,-2089.0,-1119.0,934.0,1417.0,1236.0,798.0,996.0,872.0,878.0,1394.0,823.0,1047.0,569.0,610.0,564.0,961.0,1072.0,1724.0,37.0,5373.0,-1157.0,2167.0,-284.0,-2181.0,-1276.0,-634.0,1512.0]],\"type\":\"heatmap\"}],                        {\"template\":{\"data\":{\"histogram2dcontour\":[{\"type\":\"histogram2dcontour\",\"colorbar\":{\"outlinewidth\":0,\"ticks\":\"\"},\"colorscale\":[[0.0,\"#0d0887\"],[0.1111111111111111,\"#46039f\"],[0.2222222222222222,\"#7201a8\"],[0.3333333333333333,\"#9c179e\"],[0.4444444444444444,\"#bd3786\"],[0.5555555555555556,\"#d8576b\"],[0.6666666666666666,\"#ed7953\"],[0.7777777777777778,\"#fb9f3a\"],[0.8888888888888888,\"#fdca26\"],[1.0,\"#f0f921\"]]}],\"choropleth\":[{\"type\":\"choropleth\",\"colorbar\":{\"outlinewidth\":0,\"ticks\":\"\"}}],\"histogram2d\":[{\"type\":\"histogram2d\",\"colorbar\":{\"outlinewidth\":0,\"ticks\":\"\"},\"colorscale\":[[0.0,\"#0d0887\"],[0.1111111111111111,\"#46039f\"],[0.2222222222222222,\"#7201a8\"],[0.3333333333333333,\"#9c179e\"],[0.4444444444444444,\"#bd3786\"],[0.5555555555555556,\"#d8576b\"],[0.6666666666666666,\"#ed7953\"],[0.7777777777777778,\"#fb9f3a\"],[0.8888888888888888,\"#fdca26\"],[1.0,\"#f0f921\"]]}],\"heatmap\":[{\"type\":\"heatmap\",\"colorbar\":{\"outlinewidth\":0,\"ticks\":\"\"},\"colorscale\":[[0.0,\"#0d0887\"],[0.1111111111111111,\"#46039f\"],[0.2222222222222222,\"#7201a8\"],[0.3333333333333333,\"#9c179e\"],[0.4444444444444444,\"#bd3786\"],[0.5555555555555556,\"#d8576b\"],[0.6666666666666666,\"#ed7953\"],[0.7777777777777778,\"#fb9f3a\"],[0.8888888888888888,\"#fdca26\"],[1.0,\"#f0f921\"]]}],\"heatmapgl\":[{\"type\":\"heatmapgl\",\"colorbar\":{\"outlinewidth\":0,\"ticks\":\"\"},\"colorscale\":[[0.0,\"#0d0887\"],[0.1111111111111111,\"#46039f\"],[0.2222222222222222,\"#7201a8\"],[0.3333333333333333,\"#9c179e\"],[0.4444444444444444,\"#bd3786\"],[0.5555555555555556,\"#d8576b\"],[0.6666666666666666,\"#ed7953\"],[0.7777777777777778,\"#fb9f3a\"],[0.8888888888888888,\"#fdca26\"],[1.0,\"#f0f921\"]]}],\"contourcarpet\":[{\"type\":\"contourcarpet\",\"colorbar\":{\"outlinewidth\":0,\"ticks\":\"\"}}],\"contour\":[{\"type\":\"contour\",\"colorbar\":{\"outlinewidth\":0,\"ticks\":\"\"},\"colorscale\":[[0.0,\"#0d0887\"],[0.1111111111111111,\"#46039f\"],[0.2222222222222222,\"#7201a8\"],[0.3333333333333333,\"#9c179e\"],[0.4444444444444444,\"#bd3786\"],[0.5555555555555556,\"#d8576b\"],[0.6666666666666666,\"#ed7953\"],[0.7777777777777778,\"#fb9f3a\"],[0.8888888888888888,\"#fdca26\"],[1.0,\"#f0f921\"]]}],\"surface\":[{\"type\":\"surface\",\"colorbar\":{\"outlinewidth\":0,\"ticks\":\"\"},\"colorscale\":[[0.0,\"#0d0887\"],[0.1111111111111111,\"#46039f\"],[0.2222222222222222,\"#7201a8\"],[0.3333333333333333,\"#9c179e\"],[0.4444444444444444,\"#bd3786\"],[0.5555555555555556,\"#d8576b\"],[0.6666666666666666,\"#ed7953\"],[0.7777777777777778,\"#fb9f3a\"],[0.8888888888888888,\"#fdca26\"],[1.0,\"#f0f921\"]]}],\"mesh3d\":[{\"type\":\"mesh3d\",\"colorbar\":{\"outlinewidth\":0,\"ticks\":\"\"}}],\"scatter\":[{\"fillpattern\":{\"fillmode\":\"overlay\",\"size\":10,\"solidity\":0.2},\"type\":\"scatter\"}],\"parcoords\":[{\"type\":\"parcoords\",\"line\":{\"colorbar\":{\"outlinewidth\":0,\"ticks\":\"\"}}}],\"scatterpolargl\":[{\"type\":\"scatterpolargl\",\"marker\":{\"colorbar\":{\"outlinewidth\":0,\"ticks\":\"\"}}}],\"bar\":[{\"error_x\":{\"color\":\"#2a3f5f\"},\"error_y\":{\"color\":\"#2a3f5f\"},\"marker\":{\"line\":{\"color\":\"#E5ECF6\",\"width\":0.5},\"pattern\":{\"fillmode\":\"overlay\",\"size\":10,\"solidity\":0.2}},\"type\":\"bar\"}],\"scattergeo\":[{\"type\":\"scattergeo\",\"marker\":{\"colorbar\":{\"outlinewidth\":0,\"ticks\":\"\"}}}],\"scatterpolar\":[{\"type\":\"scatterpolar\",\"marker\":{\"colorbar\":{\"outlinewidth\":0,\"ticks\":\"\"}}}],\"histogram\":[{\"marker\":{\"pattern\":{\"fillmode\":\"overlay\",\"size\":10,\"solidity\":0.2}},\"type\":\"histogram\"}],\"scattergl\":[{\"type\":\"scattergl\",\"marker\":{\"colorbar\":{\"outlinewidth\":0,\"ticks\":\"\"}}}],\"scatter3d\":[{\"type\":\"scatter3d\",\"line\":{\"colorbar\":{\"outlinewidth\":0,\"ticks\":\"\"}},\"marker\":{\"colorbar\":{\"outlinewidth\":0,\"ticks\":\"\"}}}],\"scattermapbox\":[{\"type\":\"scattermapbox\",\"marker\":{\"colorbar\":{\"outlinewidth\":0,\"ticks\":\"\"}}}],\"scatterternary\":[{\"type\":\"scatterternary\",\"marker\":{\"colorbar\":{\"outlinewidth\":0,\"ticks\":\"\"}}}],\"scattercarpet\":[{\"type\":\"scattercarpet\",\"marker\":{\"colorbar\":{\"outlinewidth\":0,\"ticks\":\"\"}}}],\"carpet\":[{\"aaxis\":{\"endlinecolor\":\"#2a3f5f\",\"gridcolor\":\"white\",\"linecolor\":\"white\",\"minorgridcolor\":\"white\",\"startlinecolor\":\"#2a3f5f\"},\"baxis\":{\"endlinecolor\":\"#2a3f5f\",\"gridcolor\":\"white\",\"linecolor\":\"white\",\"minorgridcolor\":\"white\",\"startlinecolor\":\"#2a3f5f\"},\"type\":\"carpet\"}],\"table\":[{\"cells\":{\"fill\":{\"color\":\"#EBF0F8\"},\"line\":{\"color\":\"white\"}},\"header\":{\"fill\":{\"color\":\"#C8D4E3\"},\"line\":{\"color\":\"white\"}},\"type\":\"table\"}],\"barpolar\":[{\"marker\":{\"line\":{\"color\":\"#E5ECF6\",\"width\":0.5},\"pattern\":{\"fillmode\":\"overlay\",\"size\":10,\"solidity\":0.2}},\"type\":\"barpolar\"}],\"pie\":[{\"automargin\":true,\"type\":\"pie\"}]},\"layout\":{\"autotypenumbers\":\"strict\",\"colorway\":[\"#636efa\",\"#EF553B\",\"#00cc96\",\"#ab63fa\",\"#FFA15A\",\"#19d3f3\",\"#FF6692\",\"#B6E880\",\"#FF97FF\",\"#FECB52\"],\"font\":{\"color\":\"#2a3f5f\"},\"hovermode\":\"closest\",\"hoverlabel\":{\"align\":\"left\"},\"paper_bgcolor\":\"white\",\"plot_bgcolor\":\"#E5ECF6\",\"polar\":{\"bgcolor\":\"#E5ECF6\",\"angularaxis\":{\"gridcolor\":\"white\",\"linecolor\":\"white\",\"ticks\":\"\"},\"radialaxis\":{\"gridcolor\":\"white\",\"linecolor\":\"white\",\"ticks\":\"\"}},\"ternary\":{\"bgcolor\":\"#E5ECF6\",\"aaxis\":{\"gridcolor\":\"white\",\"linecolor\":\"white\",\"ticks\":\"\"},\"baxis\":{\"gridcolor\":\"white\",\"linecolor\":\"white\",\"ticks\":\"\"},\"caxis\":{\"gridcolor\":\"white\",\"linecolor\":\"white\",\"ticks\":\"\"}},\"coloraxis\":{\"colorbar\":{\"outlinewidth\":0,\"ticks\":\"\"}},\"colorscale\":{\"sequential\":[[0.0,\"#0d0887\"],[0.1111111111111111,\"#46039f\"],[0.2222222222222222,\"#7201a8\"],[0.3333333333333333,\"#9c179e\"],[0.4444444444444444,\"#bd3786\"],[0.5555555555555556,\"#d8576b\"],[0.6666666666666666,\"#ed7953\"],[0.7777777777777778,\"#fb9f3a\"],[0.8888888888888888,\"#fdca26\"],[1.0,\"#f0f921\"]],\"sequentialminus\":[[0.0,\"#0d0887\"],[0.1111111111111111,\"#46039f\"],[0.2222222222222222,\"#7201a8\"],[0.3333333333333333,\"#9c179e\"],[0.4444444444444444,\"#bd3786\"],[0.5555555555555556,\"#d8576b\"],[0.6666666666666666,\"#ed7953\"],[0.7777777777777778,\"#fb9f3a\"],[0.8888888888888888,\"#fdca26\"],[1.0,\"#f0f921\"]],\"diverging\":[[0,\"#8e0152\"],[0.1,\"#c51b7d\"],[0.2,\"#de77ae\"],[0.3,\"#f1b6da\"],[0.4,\"#fde0ef\"],[0.5,\"#f7f7f7\"],[0.6,\"#e6f5d0\"],[0.7,\"#b8e186\"],[0.8,\"#7fbc41\"],[0.9,\"#4d9221\"],[1,\"#276419\"]]},\"xaxis\":{\"gridcolor\":\"white\",\"linecolor\":\"white\",\"ticks\":\"\",\"title\":{\"standoff\":15},\"zerolinecolor\":\"white\",\"automargin\":true,\"zerolinewidth\":2},\"yaxis\":{\"gridcolor\":\"white\",\"linecolor\":\"white\",\"ticks\":\"\",\"title\":{\"standoff\":15},\"zerolinecolor\":\"white\",\"automargin\":true,\"zerolinewidth\":2},\"scene\":{\"xaxis\":{\"backgroundcolor\":\"#E5ECF6\",\"gridcolor\":\"white\",\"linecolor\":\"white\",\"showbackground\":true,\"ticks\":\"\",\"zerolinecolor\":\"white\",\"gridwidth\":2},\"yaxis\":{\"backgroundcolor\":\"#E5ECF6\",\"gridcolor\":\"white\",\"linecolor\":\"white\",\"showbackground\":true,\"ticks\":\"\",\"zerolinecolor\":\"white\",\"gridwidth\":2},\"zaxis\":{\"backgroundcolor\":\"#E5ECF6\",\"gridcolor\":\"white\",\"linecolor\":\"white\",\"showbackground\":true,\"ticks\":\"\",\"zerolinecolor\":\"white\",\"gridwidth\":2}},\"shapedefaults\":{\"line\":{\"color\":\"#2a3f5f\"}},\"annotationdefaults\":{\"arrowcolor\":\"#2a3f5f\",\"arrowhead\":0,\"arrowwidth\":1},\"geo\":{\"bgcolor\":\"white\",\"landcolor\":\"#E5ECF6\",\"subunitcolor\":\"white\",\"showland\":true,\"showlakes\":true,\"lakecolor\":\"white\"},\"title\":{\"x\":0.05},\"mapbox\":{\"style\":\"light\"}}},\"title\":{\"text\":\"Net Migration Heatmap Over Years\"},\"xaxis\":{\"title\":{\"text\":\"Year\"}},\"yaxis\":{\"title\":{\"text\":\"Country\"}}},                        {\"responsive\": true}                    ).then(function(){\n",
              "                            \n",
              "var gd = document.getElementById('5bcff063-e812-4d32-b3ed-30905fc2a4cc');\n",
              "var x = new MutationObserver(function (mutations, observer) {{\n",
              "        var display = window.getComputedStyle(gd).display;\n",
              "        if (!display || display === 'none') {{\n",
              "            console.log([gd, 'removed!']);\n",
              "            Plotly.purge(gd);\n",
              "            observer.disconnect();\n",
              "        }}\n",
              "}});\n",
              "\n",
              "// Listen for the removal of the full notebook cells\n",
              "var notebookContainer = gd.closest('#notebook-container');\n",
              "if (notebookContainer) {{\n",
              "    x.observe(notebookContainer, {childList: true});\n",
              "}}\n",
              "\n",
              "// Listen for the clearing of the current output cell\n",
              "var outputEl = gd.closest('.output');\n",
              "if (outputEl) {{\n",
              "    x.observe(outputEl, {childList: true});\n",
              "}}\n",
              "\n",
              "                        })                };                            </script>        </div>\n",
              "</body>\n",
              "</html>"
            ]
          },
          "metadata": {}
        }
      ]
    },
    {
      "cell_type": "markdown",
      "source": [
        "#**KMeans Clustering**"
      ],
      "metadata": {
        "id": "7-_msj-6cp2P"
      }
    },
    {
      "cell_type": "code",
      "source": [
        "import plotly.express as px\n",
        "from sklearn.cluster import KMeans\n",
        "\n",
        "# extended_df is DataFrame with relevant features\n",
        "features = ['Year', 'Value']\n",
        "X = extended_df[features]\n",
        "\n",
        "# Convert categorical variables to numerical representations\n",
        "X = pd.get_dummies(X)\n",
        "\n",
        "# Apply K-Means clustering\n",
        "kmeans = KMeans(n_clusters=3, random_state=42)\n",
        "extended_df['Cluster'] = kmeans.fit_predict(X)\n",
        "\n",
        "# Create a 3D scatter plot with Plotly Express\n",
        "fig = px.scatter_3d(\n",
        "    extended_df,\n",
        "    x='Year',\n",
        "    y='Value',\n",
        "    z='Value',  # Use 'Value' as the third dimension\n",
        "    color='Cluster',\n",
        "    hover_data=['Country'],\n",
        "    title='3D Scatter Plot of K-Means Clustering',\n",
        "    labels={'Value': 'Migration Value'},\n",
        ")\n",
        "\n",
        "# Show the figure\n",
        "fig.show()\n"
      ],
      "metadata": {
        "id": "6RqkHk6i6Q5Q",
        "colab": {
          "base_uri": "https://localhost:8080/",
          "height": 611
        },
        "outputId": "1dcafb3c-fd0e-427b-ad7f-9fe1366285ec"
      },
      "execution_count": 118,
      "outputs": [
        {
          "output_type": "stream",
          "name": "stderr",
          "text": [
            "/usr/local/lib/python3.10/dist-packages/sklearn/cluster/_kmeans.py:870: FutureWarning:\n",
            "\n",
            "The default value of `n_init` will change from 10 to 'auto' in 1.4. Set the value of `n_init` explicitly to suppress the warning\n",
            "\n"
          ]
        },
        {
          "output_type": "display_data",
          "data": {
            "text/html": [
              "<html>\n",
              "<head><meta charset=\"utf-8\" /></head>\n",
              "<body>\n",
              "    <div>            <script src=\"https://cdnjs.cloudflare.com/ajax/libs/mathjax/2.7.5/MathJax.js?config=TeX-AMS-MML_SVG\"></script><script type=\"text/javascript\">if (window.MathJax && window.MathJax.Hub && window.MathJax.Hub.Config) {window.MathJax.Hub.Config({SVG: {font: \"STIX-Web\"}});}</script>                <script type=\"text/javascript\">window.PlotlyConfig = {MathJaxConfig: 'local'};</script>\n",
              "        <script charset=\"utf-8\" src=\"https://cdn.plot.ly/plotly-2.24.1.min.js\"></script>                <div id=\"99549360-2ab8-4feb-ad3f-0c3e74c94f73\" class=\"plotly-graph-div\" style=\"height:525px; width:100%;\"></div>            <script type=\"text/javascript\">                                    window.PLOTLYENV=window.PLOTLYENV || {};                                    if (document.getElementById(\"99549360-2ab8-4feb-ad3f-0c3e74c94f73\")) {                    Plotly.newPlot(                        \"99549360-2ab8-4feb-ad3f-0c3e74c94f73\",                        [{\"customdata\":[[\"India\"],[\"India\"],[\"India\"],[\"India\"],[\"India\"],[\"India\"],[\"India\"],[\"India\"],[\"India\"],[\"India\"],[\"India\"],[\"India\"],[\"India\"],[\"India\"],[\"India\"],[\"India\"],[\"India\"],[\"India\"],[\"India\"],[\"India\"],[\"India\"],[\"India\"],[\"India\"],[\"India\"],[\"India\"],[\"India\"],[\"India\"],[\"India\"],[\"India\"],[\"India\"],[\"India\"],[\"India\"],[\"India\"],[\"India\"],[\"India\"],[\"India\"],[\"India\"],[\"India\"],[\"India\"],[\"India\"],[\"India\"],[\"India\"],[\"India\"],[\"India\"],[\"India\"],[\"India\"],[\"India\"],[\"India\"],[\"India\"],[\"India\"],[\"India\"],[\"India\"],[\"India\"],[\"India\"],[\"India\"],[\"India\"],[\"India\"],[\"India\"],[\"India\"],[\"India\"],[\"India\"],[\"India\"],[\"India\"],[\"India\"],[\"India\"],[\"India\"],[\"India\"],[\"India\"],[\"India\"],[\"India\"],[\"India\"],[\"India\"],[\"India\"],[\"India\"],[\"India\"],[\"India\"],[\"India\"],[\"India\"],[\"India\"],[\"India\"],[\"India\"],[\"India\"],[\"India\"],[\"India\"],[\"India\"],[\"India\"],[\"India\"],[\"India\"],[\"India\"],[\"India\"],[\"India\"],[\"India\"],[\"India\"],[\"India\"],[\"India\"],[\"India\"],[\"India\"],[\"India\"],[\"India\"],[\"India\"],[\"India\"],[\"India\"],[\"India\"],[\"India\"],[\"India\"],[\"India\"],[\"India\"],[\"India\"],[\"India\"],[\"India\"],[\"India\"],[\"India\"],[\"India\"],[\"India\"],[\"USA\"],[\"USA\"],[\"USA\"],[\"USA\"],[\"USA\"],[\"USA\"],[\"USA\"],[\"USA\"],[\"USA\"],[\"USA\"],[\"USA\"],[\"USA\"],[\"USA\"],[\"USA\"],[\"USA\"],[\"USA\"],[\"USA\"],[\"USA\"],[\"USA\"],[\"USA\"],[\"USA\"],[\"USA\"],[\"USA\"],[\"USA\"],[\"USA\"],[\"USA\"],[\"USA\"],[\"USA\"],[\"USA\"],[\"USA\"],[\"USA\"],[\"USA\"],[\"USA\"],[\"USA\"],[\"USA\"],[\"USA\"],[\"USA\"],[\"USA\"],[\"USA\"],[\"USA\"],[\"USA\"],[\"USA\"],[\"USA\"],[\"USA\"],[\"USA\"],[\"USA\"],[\"USA\"],[\"USA\"],[\"USA\"],[\"USA\"],[\"USA\"],[\"USA\"],[\"USA\"],[\"USA\"],[\"USA\"],[\"USA\"],[\"USA\"],[\"USA\"],[\"USA\"],[\"USA\"],[\"USA\"],[\"USA\"],[\"USA\"],[\"USA\"],[\"USA\"],[\"USA\"],[\"USA\"],[\"USA\"],[\"USA\"],[\"USA\"],[\"USA\"],[\"USA\"],[\"USA\"],[\"USA\"],[\"USA\"],[\"USA\"],[\"USA\"],[\"USA\"],[\"USA\"],[\"USA\"],[\"USA\"],[\"USA\"],[\"USA\"],[\"USA\"],[\"USA\"],[\"USA\"],[\"USA\"],[\"USA\"],[\"USA\"],[\"USA\"],[\"USA\"],[\"USA\"],[\"USA\"],[\"USA\"],[\"USA\"],[\"USA\"],[\"USA\"],[\"USA\"],[\"USA\"],[\"USA\"],[\"USA\"],[\"USA\"],[\"USA\"],[\"USA\"],[\"USA\"],[\"USA\"],[\"USA\"],[\"USA\"],[\"USA\"],[\"USA\"],[\"USA\"],[\"USA\"],[\"USA\"],[\"USA\"],[\"India\"],[\"USA\"],[\"India\"],[\"USA\"],[\"India\"],[\"USA\"],[\"India\"],[\"USA\"],[\"India\"],[\"USA\"],[\"India\"],[\"USA\"],[\"India\"],[\"USA\"],[\"India\"],[\"USA\"],[\"India\"],[\"USA\"],[\"India\"],[\"USA\"]],\"hovertemplate\":\"Year=%{x}\\u003cbr\\u003eMigration Value=%{z}\\u003cbr\\u003eCountry=%{customdata[0]}\\u003cbr\\u003eCluster=%{marker.color}\\u003cextra\\u003e\\u003c\\u002fextra\\u003e\",\"legendgroup\":\"\",\"marker\":{\"color\":[0,0,0,0,0,0,0,0,0,0,0,0,0,0,0,0,0,0,0,0,0,0,0,0,0,0,0,0,0,0,0,0,0,0,0,0,0,0,0,0,0,0,0,0,0,0,0,0,0,0,0,0,0,0,0,0,0,0,0,0,0,0,0,0,0,0,0,0,1,0,0,1,0,0,1,0,0,0,0,0,0,0,0,0,0,0,1,0,0,1,0,0,1,0,0,1,0,0,1,0,0,1,0,0,1,0,0,2,0,0,2,0,0,2,0,0,0,0,0,0,0,0,0,0,0,0,0,0,0,0,0,0,0,0,0,0,0,0,0,0,0,0,0,0,0,0,0,0,0,0,0,0,0,0,0,0,0,0,0,0,0,0,0,0,0,0,0,0,0,0,0,0,0,0,0,0,0,0,0,0,0,0,0,0,0,0,0,0,0,0,0,0,0,0,0,0,0,0,0,0,0,0,0,0,0,0,0,0,0,0,0,0,0,0,0,0,0,0,0,0,0,0,0,0,0,0,0,0,0,0,0,0,0,1,0,0,0,0,0,0,0,0,0,0,0,0,0,0],\"coloraxis\":\"coloraxis\",\"symbol\":\"circle\"},\"mode\":\"markers\",\"name\":\"\",\"scene\":\"scene\",\"showlegend\":false,\"x\":[1979,1979,1979,1980,1980,1980,1981,1981,1981,1982,1982,1982,1983,1983,1983,1984,1984,1984,1985,1985,1985,1986,1986,1986,1987,1987,1987,1988,1988,1988,1989,1989,1989,1990,1990,1990,1991,1991,1991,1992,1992,1992,1993,1993,1993,1994,1994,1994,1995,1995,1995,1996,1996,1996,1997,1997,1997,1998,1998,1998,1999,1999,1999,2000,2000,2000,2001,2001,2001,2002,2002,2002,2003,2003,2003,2004,2004,2004,2005,2005,2005,2006,2006,2006,2007,2007,2007,2008,2008,2008,2009,2009,2009,2010,2010,2010,2011,2011,2011,2012,2012,2012,2013,2013,2013,2014,2014,2014,2015,2015,2015,2016,2016,2016,1979,1979,1979,1980,1980,1980,1981,1981,1981,1982,1982,1982,1983,1983,1983,1984,1984,1984,1985,1985,1985,1986,1986,1986,1987,1987,1987,1988,1988,1988,1989,1989,1989,1990,1990,1990,1991,1991,1991,1992,1992,1992,1993,1993,1993,1994,1994,1994,1995,1995,1995,1996,1996,1996,1997,1997,1997,1998,1998,1998,1999,1999,1999,2000,2000,2000,2001,2001,2001,2002,2002,2002,2003,2003,2003,2004,2004,2004,2005,2005,2005,2006,2006,2006,2007,2007,2007,2008,2008,2008,2009,2009,2009,2010,2010,2010,2011,2011,2011,2012,2012,2012,2013,2013,2013,2014,2014,2014,2015,2015,2015,2016,2016,2016,2017,2017,2018,2018,2019,2019,2020,2020,2021,2021,2022,2022,2023,2023,2024,2024,2025,2025,2026,2026],\"y\":[-65.0,-4.0,-39.0,10.0,-3.0,81.0,2.0,-7.0,62.0,-14.0,5.0,25.0,-15.0,-4.0,-18.0,22.0,-1.0,52.0,7.0,4.0,10.0,4.0,-5.0,67.0,15.0,2.0,139.0,-16.0,0.0,127.0,-10.0,3.0,117.0,2.0,-2.0,80.0,-62.0,-1.0,-105.0,-25.0,0.0,110.0,-14.0,0.0,367.0,-14.0,-5.0,836.0,-30.0,0.0,1645.0,20.0,1.0,2294.0,-27.0,-8.0,1443.0,-14.0,-4.0,1154.0,-25.0,2.0,1580.0,-25.0,4.0,2235.0,-9.0,5.0,3973.0,7.0,2.0,6581.0,-11.0,4.0,4855.0,-22.0,3.0,2449.0,-59.0,0.0,1947.0,-154.0,-1.0,2125.0,-166.0,5.0,3576.0,-100.0,1.0,5168.0,-20.0,-4.0,5951.0,-85.0,5.0,6314.0,6.0,7.0,4933.0,-30.0,7.0,5099.0,30.0,2.0,5370.0,-15.0,3.0,10088.0,72.0,4.0,13292.0,89.0,3.0,8899.0,-736.0,2.0,-797.0,-438.0,11.0,-292.0,-162.0,0.0,16.0,-8.0,7.0,350.0,76.0,-1.0,323.0,-89.0,-13.0,70.0,-109.0,7.0,14.0,-42.0,11.0,308.0,318.0,15.0,780.0,-74.0,-1.0,33.0,-127.0,19.0,159.0,-70.0,7.0,210.0,-316.0,14.0,-229.0,-301.0,-3.0,-213.0,-189.0,15.0,240.0,108.0,16.0,842.0,186.0,23.0,992.0,-79.0,23.0,494.0,-438.0,5.0,-126.0,-411.0,-10.0,-633.0,-675.0,5.0,-498.0,-1133.0,-15.0,-941.0,-759.0,9.0,-369.0,47.0,16.0,871.0,219.0,18.0,1180.0,80.0,36.0,1120.0,-108.0,32.0,874.0,-87.0,43.0,1040.0,-186.0,12.0,1046.0,-79.0,11.0,946.0,142.0,4.0,1248.0,-7.0,18.0,812.0,-94.0,36.0,1105.0,-247.0,8.0,808.0,-278.0,9.0,879.0,-320.0,-28.0,912.0,-193.0,12.0,1142.0,-214.0,0.0,1286.0,-2083.0,1724.0,-2399.0,37.0,-901.0,5373.0,-189.0,-1157.0,1141.0,2167.0,2299.0,-284.0,37.0,-2181.0,1878.0,-1276.0,1830.0,-634.0,690.0,1512.0],\"z\":[-65.0,-4.0,-39.0,10.0,-3.0,81.0,2.0,-7.0,62.0,-14.0,5.0,25.0,-15.0,-4.0,-18.0,22.0,-1.0,52.0,7.0,4.0,10.0,4.0,-5.0,67.0,15.0,2.0,139.0,-16.0,0.0,127.0,-10.0,3.0,117.0,2.0,-2.0,80.0,-62.0,-1.0,-105.0,-25.0,0.0,110.0,-14.0,0.0,367.0,-14.0,-5.0,836.0,-30.0,0.0,1645.0,20.0,1.0,2294.0,-27.0,-8.0,1443.0,-14.0,-4.0,1154.0,-25.0,2.0,1580.0,-25.0,4.0,2235.0,-9.0,5.0,3973.0,7.0,2.0,6581.0,-11.0,4.0,4855.0,-22.0,3.0,2449.0,-59.0,0.0,1947.0,-154.0,-1.0,2125.0,-166.0,5.0,3576.0,-100.0,1.0,5168.0,-20.0,-4.0,5951.0,-85.0,5.0,6314.0,6.0,7.0,4933.0,-30.0,7.0,5099.0,30.0,2.0,5370.0,-15.0,3.0,10088.0,72.0,4.0,13292.0,89.0,3.0,8899.0,-736.0,2.0,-797.0,-438.0,11.0,-292.0,-162.0,0.0,16.0,-8.0,7.0,350.0,76.0,-1.0,323.0,-89.0,-13.0,70.0,-109.0,7.0,14.0,-42.0,11.0,308.0,318.0,15.0,780.0,-74.0,-1.0,33.0,-127.0,19.0,159.0,-70.0,7.0,210.0,-316.0,14.0,-229.0,-301.0,-3.0,-213.0,-189.0,15.0,240.0,108.0,16.0,842.0,186.0,23.0,992.0,-79.0,23.0,494.0,-438.0,5.0,-126.0,-411.0,-10.0,-633.0,-675.0,5.0,-498.0,-1133.0,-15.0,-941.0,-759.0,9.0,-369.0,47.0,16.0,871.0,219.0,18.0,1180.0,80.0,36.0,1120.0,-108.0,32.0,874.0,-87.0,43.0,1040.0,-186.0,12.0,1046.0,-79.0,11.0,946.0,142.0,4.0,1248.0,-7.0,18.0,812.0,-94.0,36.0,1105.0,-247.0,8.0,808.0,-278.0,9.0,879.0,-320.0,-28.0,912.0,-193.0,12.0,1142.0,-214.0,0.0,1286.0,-2083.0,1724.0,-2399.0,37.0,-901.0,5373.0,-189.0,-1157.0,1141.0,2167.0,2299.0,-284.0,37.0,-2181.0,1878.0,-1276.0,1830.0,-634.0,690.0,1512.0],\"type\":\"scatter3d\"}],                        {\"template\":{\"data\":{\"histogram2dcontour\":[{\"type\":\"histogram2dcontour\",\"colorbar\":{\"outlinewidth\":0,\"ticks\":\"\"},\"colorscale\":[[0.0,\"#0d0887\"],[0.1111111111111111,\"#46039f\"],[0.2222222222222222,\"#7201a8\"],[0.3333333333333333,\"#9c179e\"],[0.4444444444444444,\"#bd3786\"],[0.5555555555555556,\"#d8576b\"],[0.6666666666666666,\"#ed7953\"],[0.7777777777777778,\"#fb9f3a\"],[0.8888888888888888,\"#fdca26\"],[1.0,\"#f0f921\"]]}],\"choropleth\":[{\"type\":\"choropleth\",\"colorbar\":{\"outlinewidth\":0,\"ticks\":\"\"}}],\"histogram2d\":[{\"type\":\"histogram2d\",\"colorbar\":{\"outlinewidth\":0,\"ticks\":\"\"},\"colorscale\":[[0.0,\"#0d0887\"],[0.1111111111111111,\"#46039f\"],[0.2222222222222222,\"#7201a8\"],[0.3333333333333333,\"#9c179e\"],[0.4444444444444444,\"#bd3786\"],[0.5555555555555556,\"#d8576b\"],[0.6666666666666666,\"#ed7953\"],[0.7777777777777778,\"#fb9f3a\"],[0.8888888888888888,\"#fdca26\"],[1.0,\"#f0f921\"]]}],\"heatmap\":[{\"type\":\"heatmap\",\"colorbar\":{\"outlinewidth\":0,\"ticks\":\"\"},\"colorscale\":[[0.0,\"#0d0887\"],[0.1111111111111111,\"#46039f\"],[0.2222222222222222,\"#7201a8\"],[0.3333333333333333,\"#9c179e\"],[0.4444444444444444,\"#bd3786\"],[0.5555555555555556,\"#d8576b\"],[0.6666666666666666,\"#ed7953\"],[0.7777777777777778,\"#fb9f3a\"],[0.8888888888888888,\"#fdca26\"],[1.0,\"#f0f921\"]]}],\"heatmapgl\":[{\"type\":\"heatmapgl\",\"colorbar\":{\"outlinewidth\":0,\"ticks\":\"\"},\"colorscale\":[[0.0,\"#0d0887\"],[0.1111111111111111,\"#46039f\"],[0.2222222222222222,\"#7201a8\"],[0.3333333333333333,\"#9c179e\"],[0.4444444444444444,\"#bd3786\"],[0.5555555555555556,\"#d8576b\"],[0.6666666666666666,\"#ed7953\"],[0.7777777777777778,\"#fb9f3a\"],[0.8888888888888888,\"#fdca26\"],[1.0,\"#f0f921\"]]}],\"contourcarpet\":[{\"type\":\"contourcarpet\",\"colorbar\":{\"outlinewidth\":0,\"ticks\":\"\"}}],\"contour\":[{\"type\":\"contour\",\"colorbar\":{\"outlinewidth\":0,\"ticks\":\"\"},\"colorscale\":[[0.0,\"#0d0887\"],[0.1111111111111111,\"#46039f\"],[0.2222222222222222,\"#7201a8\"],[0.3333333333333333,\"#9c179e\"],[0.4444444444444444,\"#bd3786\"],[0.5555555555555556,\"#d8576b\"],[0.6666666666666666,\"#ed7953\"],[0.7777777777777778,\"#fb9f3a\"],[0.8888888888888888,\"#fdca26\"],[1.0,\"#f0f921\"]]}],\"surface\":[{\"type\":\"surface\",\"colorbar\":{\"outlinewidth\":0,\"ticks\":\"\"},\"colorscale\":[[0.0,\"#0d0887\"],[0.1111111111111111,\"#46039f\"],[0.2222222222222222,\"#7201a8\"],[0.3333333333333333,\"#9c179e\"],[0.4444444444444444,\"#bd3786\"],[0.5555555555555556,\"#d8576b\"],[0.6666666666666666,\"#ed7953\"],[0.7777777777777778,\"#fb9f3a\"],[0.8888888888888888,\"#fdca26\"],[1.0,\"#f0f921\"]]}],\"mesh3d\":[{\"type\":\"mesh3d\",\"colorbar\":{\"outlinewidth\":0,\"ticks\":\"\"}}],\"scatter\":[{\"fillpattern\":{\"fillmode\":\"overlay\",\"size\":10,\"solidity\":0.2},\"type\":\"scatter\"}],\"parcoords\":[{\"type\":\"parcoords\",\"line\":{\"colorbar\":{\"outlinewidth\":0,\"ticks\":\"\"}}}],\"scatterpolargl\":[{\"type\":\"scatterpolargl\",\"marker\":{\"colorbar\":{\"outlinewidth\":0,\"ticks\":\"\"}}}],\"bar\":[{\"error_x\":{\"color\":\"#2a3f5f\"},\"error_y\":{\"color\":\"#2a3f5f\"},\"marker\":{\"line\":{\"color\":\"#E5ECF6\",\"width\":0.5},\"pattern\":{\"fillmode\":\"overlay\",\"size\":10,\"solidity\":0.2}},\"type\":\"bar\"}],\"scattergeo\":[{\"type\":\"scattergeo\",\"marker\":{\"colorbar\":{\"outlinewidth\":0,\"ticks\":\"\"}}}],\"scatterpolar\":[{\"type\":\"scatterpolar\",\"marker\":{\"colorbar\":{\"outlinewidth\":0,\"ticks\":\"\"}}}],\"histogram\":[{\"marker\":{\"pattern\":{\"fillmode\":\"overlay\",\"size\":10,\"solidity\":0.2}},\"type\":\"histogram\"}],\"scattergl\":[{\"type\":\"scattergl\",\"marker\":{\"colorbar\":{\"outlinewidth\":0,\"ticks\":\"\"}}}],\"scatter3d\":[{\"type\":\"scatter3d\",\"line\":{\"colorbar\":{\"outlinewidth\":0,\"ticks\":\"\"}},\"marker\":{\"colorbar\":{\"outlinewidth\":0,\"ticks\":\"\"}}}],\"scattermapbox\":[{\"type\":\"scattermapbox\",\"marker\":{\"colorbar\":{\"outlinewidth\":0,\"ticks\":\"\"}}}],\"scatterternary\":[{\"type\":\"scatterternary\",\"marker\":{\"colorbar\":{\"outlinewidth\":0,\"ticks\":\"\"}}}],\"scattercarpet\":[{\"type\":\"scattercarpet\",\"marker\":{\"colorbar\":{\"outlinewidth\":0,\"ticks\":\"\"}}}],\"carpet\":[{\"aaxis\":{\"endlinecolor\":\"#2a3f5f\",\"gridcolor\":\"white\",\"linecolor\":\"white\",\"minorgridcolor\":\"white\",\"startlinecolor\":\"#2a3f5f\"},\"baxis\":{\"endlinecolor\":\"#2a3f5f\",\"gridcolor\":\"white\",\"linecolor\":\"white\",\"minorgridcolor\":\"white\",\"startlinecolor\":\"#2a3f5f\"},\"type\":\"carpet\"}],\"table\":[{\"cells\":{\"fill\":{\"color\":\"#EBF0F8\"},\"line\":{\"color\":\"white\"}},\"header\":{\"fill\":{\"color\":\"#C8D4E3\"},\"line\":{\"color\":\"white\"}},\"type\":\"table\"}],\"barpolar\":[{\"marker\":{\"line\":{\"color\":\"#E5ECF6\",\"width\":0.5},\"pattern\":{\"fillmode\":\"overlay\",\"size\":10,\"solidity\":0.2}},\"type\":\"barpolar\"}],\"pie\":[{\"automargin\":true,\"type\":\"pie\"}]},\"layout\":{\"autotypenumbers\":\"strict\",\"colorway\":[\"#636efa\",\"#EF553B\",\"#00cc96\",\"#ab63fa\",\"#FFA15A\",\"#19d3f3\",\"#FF6692\",\"#B6E880\",\"#FF97FF\",\"#FECB52\"],\"font\":{\"color\":\"#2a3f5f\"},\"hovermode\":\"closest\",\"hoverlabel\":{\"align\":\"left\"},\"paper_bgcolor\":\"white\",\"plot_bgcolor\":\"#E5ECF6\",\"polar\":{\"bgcolor\":\"#E5ECF6\",\"angularaxis\":{\"gridcolor\":\"white\",\"linecolor\":\"white\",\"ticks\":\"\"},\"radialaxis\":{\"gridcolor\":\"white\",\"linecolor\":\"white\",\"ticks\":\"\"}},\"ternary\":{\"bgcolor\":\"#E5ECF6\",\"aaxis\":{\"gridcolor\":\"white\",\"linecolor\":\"white\",\"ticks\":\"\"},\"baxis\":{\"gridcolor\":\"white\",\"linecolor\":\"white\",\"ticks\":\"\"},\"caxis\":{\"gridcolor\":\"white\",\"linecolor\":\"white\",\"ticks\":\"\"}},\"coloraxis\":{\"colorbar\":{\"outlinewidth\":0,\"ticks\":\"\"}},\"colorscale\":{\"sequential\":[[0.0,\"#0d0887\"],[0.1111111111111111,\"#46039f\"],[0.2222222222222222,\"#7201a8\"],[0.3333333333333333,\"#9c179e\"],[0.4444444444444444,\"#bd3786\"],[0.5555555555555556,\"#d8576b\"],[0.6666666666666666,\"#ed7953\"],[0.7777777777777778,\"#fb9f3a\"],[0.8888888888888888,\"#fdca26\"],[1.0,\"#f0f921\"]],\"sequentialminus\":[[0.0,\"#0d0887\"],[0.1111111111111111,\"#46039f\"],[0.2222222222222222,\"#7201a8\"],[0.3333333333333333,\"#9c179e\"],[0.4444444444444444,\"#bd3786\"],[0.5555555555555556,\"#d8576b\"],[0.6666666666666666,\"#ed7953\"],[0.7777777777777778,\"#fb9f3a\"],[0.8888888888888888,\"#fdca26\"],[1.0,\"#f0f921\"]],\"diverging\":[[0,\"#8e0152\"],[0.1,\"#c51b7d\"],[0.2,\"#de77ae\"],[0.3,\"#f1b6da\"],[0.4,\"#fde0ef\"],[0.5,\"#f7f7f7\"],[0.6,\"#e6f5d0\"],[0.7,\"#b8e186\"],[0.8,\"#7fbc41\"],[0.9,\"#4d9221\"],[1,\"#276419\"]]},\"xaxis\":{\"gridcolor\":\"white\",\"linecolor\":\"white\",\"ticks\":\"\",\"title\":{\"standoff\":15},\"zerolinecolor\":\"white\",\"automargin\":true,\"zerolinewidth\":2},\"yaxis\":{\"gridcolor\":\"white\",\"linecolor\":\"white\",\"ticks\":\"\",\"title\":{\"standoff\":15},\"zerolinecolor\":\"white\",\"automargin\":true,\"zerolinewidth\":2},\"scene\":{\"xaxis\":{\"backgroundcolor\":\"#E5ECF6\",\"gridcolor\":\"white\",\"linecolor\":\"white\",\"showbackground\":true,\"ticks\":\"\",\"zerolinecolor\":\"white\",\"gridwidth\":2},\"yaxis\":{\"backgroundcolor\":\"#E5ECF6\",\"gridcolor\":\"white\",\"linecolor\":\"white\",\"showbackground\":true,\"ticks\":\"\",\"zerolinecolor\":\"white\",\"gridwidth\":2},\"zaxis\":{\"backgroundcolor\":\"#E5ECF6\",\"gridcolor\":\"white\",\"linecolor\":\"white\",\"showbackground\":true,\"ticks\":\"\",\"zerolinecolor\":\"white\",\"gridwidth\":2}},\"shapedefaults\":{\"line\":{\"color\":\"#2a3f5f\"}},\"annotationdefaults\":{\"arrowcolor\":\"#2a3f5f\",\"arrowhead\":0,\"arrowwidth\":1},\"geo\":{\"bgcolor\":\"white\",\"landcolor\":\"#E5ECF6\",\"subunitcolor\":\"white\",\"showland\":true,\"showlakes\":true,\"lakecolor\":\"white\"},\"title\":{\"x\":0.05},\"mapbox\":{\"style\":\"light\"}}},\"scene\":{\"domain\":{\"x\":[0.0,1.0],\"y\":[0.0,1.0]},\"xaxis\":{\"title\":{\"text\":\"Year\"}},\"yaxis\":{\"title\":{\"text\":\"Migration Value\"}},\"zaxis\":{\"title\":{\"text\":\"Migration Value\"}}},\"coloraxis\":{\"colorbar\":{\"title\":{\"text\":\"Cluster\"}},\"colorscale\":[[0.0,\"#0d0887\"],[0.1111111111111111,\"#46039f\"],[0.2222222222222222,\"#7201a8\"],[0.3333333333333333,\"#9c179e\"],[0.4444444444444444,\"#bd3786\"],[0.5555555555555556,\"#d8576b\"],[0.6666666666666666,\"#ed7953\"],[0.7777777777777778,\"#fb9f3a\"],[0.8888888888888888,\"#fdca26\"],[1.0,\"#f0f921\"]]},\"legend\":{\"tracegroupgap\":0},\"title\":{\"text\":\"3D Scatter Plot of K-Means Clustering\"}},                        {\"responsive\": true}                    ).then(function(){\n",
              "                            \n",
              "var gd = document.getElementById('99549360-2ab8-4feb-ad3f-0c3e74c94f73');\n",
              "var x = new MutationObserver(function (mutations, observer) {{\n",
              "        var display = window.getComputedStyle(gd).display;\n",
              "        if (!display || display === 'none') {{\n",
              "            console.log([gd, 'removed!']);\n",
              "            Plotly.purge(gd);\n",
              "            observer.disconnect();\n",
              "        }}\n",
              "}});\n",
              "\n",
              "// Listen for the removal of the full notebook cells\n",
              "var notebookContainer = gd.closest('#notebook-container');\n",
              "if (notebookContainer) {{\n",
              "    x.observe(notebookContainer, {childList: true});\n",
              "}}\n",
              "\n",
              "// Listen for the clearing of the current output cell\n",
              "var outputEl = gd.closest('.output');\n",
              "if (outputEl) {{\n",
              "    x.observe(outputEl, {childList: true});\n",
              "}}\n",
              "\n",
              "                        })                };                            </script>        </div>\n",
              "</body>\n",
              "</html>"
            ]
          },
          "metadata": {}
        }
      ]
    }
  ]
}